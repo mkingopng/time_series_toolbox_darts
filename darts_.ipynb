{
 "cells": [
  {
   "cell_type": "markdown",
   "source": [
    "# Darts\n",
    "\n",
    "An interesting example of a library combining multiple time series models is `darts` https://unit8co.github.io/darts/ . It takes a slightly different approach then AutoTS: instead of automatically combining a set of models from a predefined list, it allows us to setup evaluation of different models in standardized manner.\n",
    "\n",
    "<img src=\"darts.png\"/>\n",
    "\n",
    "The list of possible candidate models is quite exhaustive:\n",
    "\n",
    "* ARIMA\n",
    "* Auto-ARIMA\n",
    "* Baseline Models\n",
    "* Block Recurrent Neural Networks\n",
    "* Exponential Smoothing\n",
    "* Fast Fourier Transform\n",
    "* LightGBM Model\n",
    "* Linear Regression model\n",
    "* N-BEATS\n",
    "* Facebook Prophet\n",
    "* Random Forest\n",
    "* Regression ensemble model\n",
    "* Regression Model\n",
    "* Recurrent Neural Networks\n",
    "* Temporal Convolutional Network\n",
    "* Temporal Fusion Transformer (TFT)\n",
    "* Theta Method\n",
    "* Transformer Model\n",
    "* VARIMA\n",
    "\n",
    "This package and `Kats` discussed in this section have certain overlap in their focus, so in order to avoid redundancy we will take something of an *a la carte* approach."
   ],
   "metadata": {
    "collapsed": false,
    "pycharm": {
     "name": "#%% md\n"
    }
   }
  },
  {
   "cell_type": "code",
   "execution_count": null,
   "outputs": [],
   "source": [
    "import pandas as pd\n",
    "from data_sources import *\n",
    "from darts import TimeSeries\n",
    "from darts.models import Prophet, ExponentialSmoothing, AutoARIMA, Theta, RegressionEnsembleModel, RegressionModel\n",
    "from darts.metrics import rmse"
   ],
   "metadata": {
    "collapsed": false,
    "pycharm": {
     "name": "#%%\n"
    }
   }
  },
  {
   "cell_type": "markdown",
   "source": [
    "In this section we will focus on a very useful feature of darts: backtesting. A frequent approach to validation of time series models is to split the data on time: training set are all the observations up to some time point 𝑡0\n",
    "\n",
    "and validation is the part afterwards. While simple to set up, this approach runs the risk of overfitting to our chosen validation set. The historical_forecast method built into all the models in darts solves this problem by allowing us to perform a walk-forward validation:\n",
    "<img src=\"backtesting.png\"/>\n",
    "\n",
    "For the visually challenged people like me:\n",
    "   - we use an expanding training window\n",
    "   - for each run, we train the model on the training set and generate a forecast on test\n",
    "   - next run has an extended training set and a shifted test\n",
    "\n",
    "Let's take some of the already familiar models, as well as a few new ones for a ride. First, we borrow a helpful wrapper function from the official documentation:"
   ],
   "metadata": {
    "collapsed": false,
    "pycharm": {
     "name": "#%% md\n"
    }
   }
  },
  {
   "cell_type": "code",
   "execution_count": null,
   "outputs": [],
   "source": [
    "def eval_model(model, flow,\n",
    "               past_covariates=None,  future_covariates=None,\n",
    "               retrain = False,\n",
    "               forecast_horizon = 10,\n",
    "               last_obs = 200):\n",
    "    # Past and future covariates are optional because they won't always be used in our tests\n",
    "    # We backtest the model on the last 20% of the flow series,\n",
    "    # with a horizon of `forecast_horizon` steps:\n",
    "    backtest = model.historical_forecasts(series=flow,\n",
    "                                          past_covariates=past_covariates,\n",
    "                                          future_covariates=future_covariates,\n",
    "                                          start=0.8,\n",
    "                                          retrain=retrain,\n",
    "                                          verbose=True,\n",
    "                                          forecast_horizon=forecast_horizon)\n"
   ],
   "metadata": {
    "collapsed": false,
    "pycharm": {
     "name": "#%%\n"
    }
   }
  },
  {
   "cell_type": "markdown",
   "source": [
    "Format the data into `darts` format:\n"
   ],
   "metadata": {
    "collapsed": false,
    "pycharm": {
     "name": "#%% md\n"
    }
   }
  },
  {
   "cell_type": "code",
   "execution_count": null,
   "outputs": [],
   "source": [
    "stock_names = 'TATAMOTORS'\n",
    "df = pd.read_csv(data, 'nifty50-stock-market-data', f'{stock_names}.csv', usecols = ['Date', 'VWAP'])\n",
    "df = df.loc[df.Date > CFG.cutoff]\n",
    "series = TimeSeries.from_dataframe(df, 'Date', 'VWAP', freq = 'D')\n",
    "series.plot()\n",
    "# df.set_index('Date').VWAP.plot()"
   ],
   "metadata": {
    "collapsed": false,
    "pycharm": {
     "name": "#%%\n"
    }
   }
  },
  {
   "cell_type": "code",
   "execution_count": null,
   "outputs": [],
   "source": [],
   "metadata": {
    "collapsed": false,
    "pycharm": {
     "name": "#%%\n"
    }
   }
  }
 ],
 "metadata": {
  "kernelspec": {
   "display_name": "Python 3",
   "language": "python",
   "name": "python3"
  },
  "language_info": {
   "codemirror_mode": {
    "name": "ipython",
    "version": 2
   },
   "file_extension": ".py",
   "mimetype": "text/x-python",
   "name": "python",
   "nbconvert_exporter": "python",
   "pygments_lexer": "ipython2",
   "version": "2.7.6"
  }
 },
 "nbformat": 4,
 "nbformat_minor": 0
}