{
 "metadata": {
  "kernelspec": {
   "language": "python",
   "display_name": "Python 3",
   "name": "python3"
  },
  "language_info": {
   "pygments_lexer": "ipython3",
   "nbconvert_exporter": "python",
   "version": "3.6.4",
   "file_extension": ".py",
   "codemirror_mode": {
    "name": "ipython",
    "version": 3
   },
   "name": "python",
   "mimetype": "text/x-python"
  }
 },
 "nbformat_minor": 4,
 "nbformat": 4,
 "cells": [
  {
   "cell_type": "markdown",
   "source": [
    "# Signal Forecasting"
   ],
   "metadata": {
    "pycharm": {
     "name": "#%% md\n"
    }
   }
  },
  {
   "cell_type": "markdown",
   "source": [
    "### Import Libraries"
   ],
   "metadata": {
    "pycharm": {
     "name": "#%% md\n"
    }
   }
  },
  {
   "cell_type": "code",
   "source": [
    "import pandas as pd\n",
    "import numpy as np\n",
    "import warnings\n",
    "import os\n",
    "import gc\n",
    "from IPython.display import HTML\n",
    "warnings.filterwarnings(\"ignore\")\n",
    "\n",
    "from math import sin, cos, pi\n",
    "\n",
    "from timeit import default_timer as timer\n",
    "import matplotlib.pyplot as plt\n",
    "\n",
    "import torch\n",
    "from torch.utils.data import DataLoader\n",
    "import torch.nn as nn\n",
    "from transformers import get_linear_schedule_with_warmup\n",
    "\n",
    "from sklearn.preprocessing import StandardScaler\n",
    "\n",
    "random_state = 42"
   ],
   "metadata": {
    "execution": {
     "iopub.status.busy": "2022-04-05T21:59:27.233437Z",
     "iopub.execute_input": "2022-04-05T21:59:27.233861Z",
     "iopub.status.idle": "2022-04-05T21:59:28.184761Z",
     "shell.execute_reply.started": "2022-04-05T21:59:27.233758Z",
     "shell.execute_reply": "2022-04-05T21:59:28.183778Z"
    },
    "trusted": true,
    "pycharm": {
     "name": "#%%\n"
    }
   },
   "execution_count": 1,
   "outputs": []
  },
  {
   "cell_type": "markdown",
   "source": [
    "### Read Data"
   ],
   "metadata": {
    "pycharm": {
     "name": "#%% md\n"
    }
   }
  },
  {
   "cell_type": "code",
   "source": [
    "data = pd.read_csv(os.path.join('data', 'tabular_playground_series_april_2022', 'train.csv'))\n",
    "data_labels = pd.read_csv(os.path.join('data', 'tabular_playground_series_april_2022', 'train_labels.csv'))\n",
    "test_data  = pd.read_csv(os.path.join('data', 'tabular_playground_series_april_2022', 'test.csv'))\n",
    "submission = pd.read_csv(os.path.join('data', 'tabular_playground_series_april_2022', 'sample_submission.csv'))"
   ],
   "metadata": {
    "execution": {
     "iopub.status.busy": "2022-04-05T22:00:54.765129Z",
     "iopub.execute_input": "2022-04-05T22:00:54.765635Z",
     "iopub.status.idle": "2022-04-05T22:01:05.993554Z",
     "shell.execute_reply.started": "2022-04-05T22:00:54.765594Z",
     "shell.execute_reply": "2022-04-05T22:01:05.992798Z"
    },
    "trusted": true,
    "pycharm": {
     "name": "#%%\n"
    }
   },
   "execution_count": 3,
   "outputs": []
  },
  {
   "cell_type": "code",
   "source": [
    "data[:5]"
   ],
   "metadata": {
    "execution": {
     "iopub.status.busy": "2022-04-05T22:01:05.994886Z",
     "iopub.execute_input": "2022-04-05T22:01:05.995164Z",
     "iopub.status.idle": "2022-04-05T22:01:06.02613Z",
     "shell.execute_reply.started": "2022-04-05T22:01:05.99513Z",
     "shell.execute_reply": "2022-04-05T22:01:06.025335Z"
    },
    "trusted": true,
    "pycharm": {
     "name": "#%%\n"
    }
   },
   "execution_count": 4,
   "outputs": [
    {
     "data": {
      "text/plain": "   sequence  subject  step  sensor_00  sensor_01  sensor_02  sensor_03  \\\n0         0       47     0  -0.196291   0.112395        1.0   0.329204   \n1         0       47     1  -0.447450   0.134454        1.0  -0.658407   \n2         0       47     2   0.326893  -0.694328        1.0   0.330088   \n3         0       47     3   0.523184   0.751050        1.0   0.976991   \n4         0       47     4   0.272025   1.074580        1.0  -0.136283   \n\n   sensor_04  sensor_05  sensor_06  sensor_07  sensor_08  sensor_09  \\\n0  -1.004660  -0.131638  -0.127505   0.368702       -0.1  -0.963873   \n1   0.162495   0.340314  -0.209472  -0.867176        0.2  -0.301301   \n2   0.473678   1.280479  -0.094718   0.535878        1.4   1.002168   \n3  -0.563287  -0.720269   0.793260   0.951145       -0.3  -0.995665   \n4   0.398579   0.044877   0.560109  -0.541985       -0.9   1.055636   \n\n   sensor_10  sensor_11  sensor_12  \n0  -0.985069   0.531893   4.751492  \n1   0.082733  -0.231481   0.454390  \n2   0.449221  -0.586420  -4.736147  \n3  -0.434290   1.344650   0.429241  \n4   0.812631   0.123457  -0.223359  ",
      "text/html": "<div>\n<style scoped>\n    .dataframe tbody tr th:only-of-type {\n        vertical-align: middle;\n    }\n\n    .dataframe tbody tr th {\n        vertical-align: top;\n    }\n\n    .dataframe thead th {\n        text-align: right;\n    }\n</style>\n<table border=\"1\" class=\"dataframe\">\n  <thead>\n    <tr style=\"text-align: right;\">\n      <th></th>\n      <th>sequence</th>\n      <th>subject</th>\n      <th>step</th>\n      <th>sensor_00</th>\n      <th>sensor_01</th>\n      <th>sensor_02</th>\n      <th>sensor_03</th>\n      <th>sensor_04</th>\n      <th>sensor_05</th>\n      <th>sensor_06</th>\n      <th>sensor_07</th>\n      <th>sensor_08</th>\n      <th>sensor_09</th>\n      <th>sensor_10</th>\n      <th>sensor_11</th>\n      <th>sensor_12</th>\n    </tr>\n  </thead>\n  <tbody>\n    <tr>\n      <th>0</th>\n      <td>0</td>\n      <td>47</td>\n      <td>0</td>\n      <td>-0.196291</td>\n      <td>0.112395</td>\n      <td>1.0</td>\n      <td>0.329204</td>\n      <td>-1.004660</td>\n      <td>-0.131638</td>\n      <td>-0.127505</td>\n      <td>0.368702</td>\n      <td>-0.1</td>\n      <td>-0.963873</td>\n      <td>-0.985069</td>\n      <td>0.531893</td>\n      <td>4.751492</td>\n    </tr>\n    <tr>\n      <th>1</th>\n      <td>0</td>\n      <td>47</td>\n      <td>1</td>\n      <td>-0.447450</td>\n      <td>0.134454</td>\n      <td>1.0</td>\n      <td>-0.658407</td>\n      <td>0.162495</td>\n      <td>0.340314</td>\n      <td>-0.209472</td>\n      <td>-0.867176</td>\n      <td>0.2</td>\n      <td>-0.301301</td>\n      <td>0.082733</td>\n      <td>-0.231481</td>\n      <td>0.454390</td>\n    </tr>\n    <tr>\n      <th>2</th>\n      <td>0</td>\n      <td>47</td>\n      <td>2</td>\n      <td>0.326893</td>\n      <td>-0.694328</td>\n      <td>1.0</td>\n      <td>0.330088</td>\n      <td>0.473678</td>\n      <td>1.280479</td>\n      <td>-0.094718</td>\n      <td>0.535878</td>\n      <td>1.4</td>\n      <td>1.002168</td>\n      <td>0.449221</td>\n      <td>-0.586420</td>\n      <td>-4.736147</td>\n    </tr>\n    <tr>\n      <th>3</th>\n      <td>0</td>\n      <td>47</td>\n      <td>3</td>\n      <td>0.523184</td>\n      <td>0.751050</td>\n      <td>1.0</td>\n      <td>0.976991</td>\n      <td>-0.563287</td>\n      <td>-0.720269</td>\n      <td>0.793260</td>\n      <td>0.951145</td>\n      <td>-0.3</td>\n      <td>-0.995665</td>\n      <td>-0.434290</td>\n      <td>1.344650</td>\n      <td>0.429241</td>\n    </tr>\n    <tr>\n      <th>4</th>\n      <td>0</td>\n      <td>47</td>\n      <td>4</td>\n      <td>0.272025</td>\n      <td>1.074580</td>\n      <td>1.0</td>\n      <td>-0.136283</td>\n      <td>0.398579</td>\n      <td>0.044877</td>\n      <td>0.560109</td>\n      <td>-0.541985</td>\n      <td>-0.9</td>\n      <td>1.055636</td>\n      <td>0.812631</td>\n      <td>0.123457</td>\n      <td>-0.223359</td>\n    </tr>\n  </tbody>\n</table>\n</div>"
     },
     "execution_count": 4,
     "metadata": {},
     "output_type": "execute_result"
    }
   ]
  },
  {
   "cell_type": "markdown",
   "source": [
    "#### Preprocessing"
   ],
   "metadata": {
    "pycharm": {
     "name": "#%% md\n"
    }
   }
  },
  {
   "cell_type": "code",
   "source": [
    "scaler = StandardScaler()\n",
    "data = data.drop(['sequence', 'subject', 'step'], axis = 1)\n",
    "data = scaler.fit_transform(data)"
   ],
   "metadata": {
    "execution": {
     "iopub.status.busy": "2022-04-05T22:01:06.02762Z",
     "iopub.execute_input": "2022-04-05T22:01:06.027875Z",
     "iopub.status.idle": "2022-04-05T22:01:06.452494Z",
     "shell.execute_reply.started": "2022-04-05T22:01:06.02784Z",
     "shell.execute_reply": "2022-04-05T22:01:06.451773Z"
    },
    "trusted": true,
    "pycharm": {
     "name": "#%%\n"
    }
   },
   "execution_count": 5,
   "outputs": []
  },
  {
   "cell_type": "markdown",
   "source": [
    "### Train_test_split\n",
    "we need to split the train and train_label data into train and test. we will use 85% of the data for training and 15% for testing"
   ],
   "metadata": {
    "pycharm": {
     "name": "#%% md\n"
    }
   }
  },
  {
   "cell_type": "code",
   "source": [
    "test_q = 0.85\n",
    "\n",
    "train_size = int(test_q * len(data) - (test_q * len(data) % 60))\n",
    "train_label_size = int(test_q * len(data_labels))\n",
    "\n",
    "X_train, y_train = data[:train_size], data_labels[:train_label_size]\n",
    "X_test, y_test = data[train_size:], data_labels[train_label_size:]"
   ],
   "metadata": {
    "execution": {
     "iopub.status.busy": "2022-04-05T22:01:06.454558Z",
     "iopub.execute_input": "2022-04-05T22:01:06.455073Z",
     "iopub.status.idle": "2022-04-05T22:01:06.461068Z",
     "shell.execute_reply.started": "2022-04-05T22:01:06.455036Z",
     "shell.execute_reply": "2022-04-05T22:01:06.460346Z"
    },
    "trusted": true,
    "pycharm": {
     "name": "#%%\n"
    }
   },
   "execution_count": 6,
   "outputs": []
  },
  {
   "cell_type": "code",
   "source": [
    "X_train.shape, X_test.shape"
   ],
   "metadata": {
    "execution": {
     "iopub.status.busy": "2022-04-05T22:01:06.462482Z",
     "iopub.execute_input": "2022-04-05T22:01:06.462743Z",
     "iopub.status.idle": "2022-04-05T22:01:06.472211Z",
     "shell.execute_reply.started": "2022-04-05T22:01:06.46271Z",
     "shell.execute_reply": "2022-04-05T22:01:06.471453Z"
    },
    "trusted": true,
    "pycharm": {
     "name": "#%%\n"
    }
   },
   "execution_count": 7,
   "outputs": [
    {
     "data": {
      "text/plain": "((1324320, 13), (233760, 13))"
     },
     "execution_count": 7,
     "metadata": {},
     "output_type": "execute_result"
    }
   ]
  },
  {
   "cell_type": "markdown",
   "source": [
    "## Datasets\n",
    "### TrainDataset\n",
    "we need to define the train dataset class"
   ],
   "metadata": {
    "pycharm": {
     "name": "#%% md\n"
    }
   }
  },
  {
   "cell_type": "code",
   "source": [
    "class TrainDataset(torch.utils.data.Dataset):\n",
    "    def __init__(self, X, y, seq_num):\n",
    "        super().__init__()\n",
    "        self.X = X\n",
    "        self.y = y\n",
    "        self.seq_num = seq_num\n",
    "    def __len__(self):\n",
    "        return len(self.y)\n",
    "    def __getitem__(self, idx):\n",
    "        return self.X[idx], self.y[idx[0]//self.seq_num]"
   ],
   "metadata": {
    "execution": {
     "iopub.status.busy": "2022-04-05T22:01:06.47343Z",
     "iopub.execute_input": "2022-04-05T22:01:06.47373Z",
     "iopub.status.idle": "2022-04-05T22:01:06.48073Z",
     "shell.execute_reply.started": "2022-04-05T22:01:06.473697Z",
     "shell.execute_reply": "2022-04-05T22:01:06.479892Z"
    },
    "trusted": true,
    "pycharm": {
     "name": "#%%\n"
    }
   },
   "execution_count": 8,
   "outputs": []
  },
  {
   "cell_type": "markdown",
   "source": [
    "#### TestDataset\n",
    "and the test dataset class"
   ],
   "metadata": {
    "pycharm": {
     "name": "#%% md\n"
    }
   }
  },
  {
   "cell_type": "code",
   "source": [
    "class TestDataset(torch.utils.data.Dataset):\n",
    "    def __init__(self, X, seq_num):\n",
    "        super().__init__()\n",
    "        self.X = X\n",
    "        self.seq_num = seq_num\n",
    "    def __len__(self):\n",
    "        return len(self.X) // 60\n",
    "    def __getitem__(self, idx):\n",
    "        return self.X[idx]"
   ],
   "metadata": {
    "execution": {
     "iopub.status.busy": "2022-04-05T22:01:06.481977Z",
     "iopub.execute_input": "2022-04-05T22:01:06.482437Z",
     "iopub.status.idle": "2022-04-05T22:01:06.489734Z",
     "shell.execute_reply.started": "2022-04-05T22:01:06.482402Z",
     "shell.execute_reply": "2022-04-05T22:01:06.489137Z"
    },
    "trusted": true,
    "pycharm": {
     "name": "#%%\n"
    }
   },
   "execution_count": 9,
   "outputs": []
  },
  {
   "cell_type": "code",
   "source": [
    "def prepare_data(data, data_labels, seq_num, data_num, mode='train'):\n",
    "    \"\"\"\n",
    "\n",
    "    :param data:\n",
    "    :param data_labels:\n",
    "    :param seq_num:\n",
    "    :param data_num:\n",
    "    :param mode:\n",
    "    :return:\n",
    "    \"\"\"\n",
    "    if data_labels is not None:\n",
    "        data_labels = data_labels['state'].values\n",
    "    \n",
    "    sampler = np.array([list(range(i * seq_num, (i + 1) * seq_num)) for i in range(data_num // seq_num)])\n",
    "    if mode == 'train':\n",
    "        dataset = TrainDataset(data, data_labels, seq_num)\n",
    "    else:\n",
    "        dataset = TestDataset(data, seq_num)\n",
    "\n",
    "    dataloader = DataLoader(dataset, batch_size=64, sampler=sampler)\n",
    "    return dataloader"
   ],
   "metadata": {
    "execution": {
     "iopub.status.busy": "2022-04-05T22:01:06.493401Z",
     "iopub.execute_input": "2022-04-05T22:01:06.493738Z",
     "iopub.status.idle": "2022-04-05T22:01:06.503253Z",
     "shell.execute_reply.started": "2022-04-05T22:01:06.493679Z",
     "shell.execute_reply": "2022-04-05T22:01:06.502533Z"
    },
    "trusted": true,
    "pycharm": {
     "name": "#%%\n"
    }
   },
   "execution_count": 10,
   "outputs": []
  },
  {
   "cell_type": "code",
   "source": [
    "train_dataloader = prepare_data(X_train, y_train, 60, X_train.shape[0])\n",
    "test_dataloader = prepare_data(X_test, y_test, 60, X_test.shape[0])"
   ],
   "metadata": {
    "execution": {
     "iopub.status.busy": "2022-04-05T22:01:06.504575Z",
     "iopub.execute_input": "2022-04-05T22:01:06.504826Z",
     "iopub.status.idle": "2022-04-05T22:01:06.810641Z",
     "shell.execute_reply.started": "2022-04-05T22:01:06.504793Z",
     "shell.execute_reply": "2022-04-05T22:01:06.809912Z"
    },
    "trusted": true,
    "pycharm": {
     "name": "#%%\n"
    }
   },
   "execution_count": 11,
   "outputs": []
  },
  {
   "cell_type": "markdown",
   "source": [
    "# Model: LSTM\n",
    "Long Short Term Memory networks – usually just called “LSTMs” – are a special kind of RNN, capable of learning long-term dependencies. They were introduced by Hochreiter & Schmidhuber (1997), and were refined and popularized by many people in following work.1 They work tremendously well on a large variety of problems, and are now widely used.\n",
    "\n",
    "LSTMs are explicitly designed to avoid the long-term dependency problem. Remembering information for long periods of time is practically their default behavior, not something they struggle to learn!\n",
    "\n",
    "All recurrent neural networks have the form of a chain of repeating modules of neural network. In standard RNNs, this repeating module will have a very simple structure, such as a single tanh layer."
   ],
   "metadata": {
    "pycharm": {
     "name": "#%% md\n"
    }
   }
  },
  {
   "cell_type": "markdown",
   "source": [
    "<center><a><img src=\"https://hsto.org/web/67b/04f/73b/67b04f73b4c34ba38edfa207e09de07c.png\" alt=\"header\" border=\"0\" width=800 height=400 class=\"center\"></a>"
   ],
   "metadata": {
    "pycharm": {
     "name": "#%% md\n"
    }
   }
  },
  {
   "cell_type": "markdown",
   "source": [
    "But we use Biderection LSTM. A Bidirectional LSTM, or biLSTM, is a sequence processing model that consists of two LSTMs: one taking the input in a forward direction, and the other in a backwards direction. BiLSTMs effectively increase the amount of information available to the network, improving the context available to the algorithm (e.g. knowing what words immediately follow and precede a word in a sentence).\n",
    "\n",
    "In Model we use:\n",
    "- BiLSTM\n",
    "- Linear layer"
   ],
   "metadata": {
    "pycharm": {
     "name": "#%% md\n"
    }
   }
  },
  {
   "cell_type": "markdown",
   "source": [
    "## Model\n",
    "define the model class"
   ],
   "metadata": {
    "collapsed": false,
    "pycharm": {
     "name": "#%% md\n"
    }
   }
  },
  {
   "cell_type": "code",
   "source": [
    "class LSTM(nn.Module):\n",
    "    def __init__(self,\n",
    "         seq_num = 60,\n",
    "         input_dim = 13,\n",
    "         lstm_dim = 512,\n",
    "         num_layers = 2,\n",
    "         num_classes = 1\n",
    "    ):\n",
    "        super().__init__()\n",
    "\n",
    "        self.lstm = nn.LSTM(input_dim, lstm_dim, num_layers, batch_first=True, bidirectional=True)\n",
    "        \n",
    "        self.lstm1 = nn.LSTM(2 * lstm_dim, lstm_dim, num_layers, batch_first=True, bidirectional=True)\n",
    "        \n",
    "        self.lstm2 = nn.LSTM(2 * lstm_dim, lstm_dim, num_layers, batch_first=True, bidirectional=True)\n",
    "        \n",
    "        self.logits = nn.Sequential(\n",
    "            nn.ReLU(),\n",
    "            nn.Linear(lstm_dim * seq_num * 2, num_classes),\n",
    "        )\n",
    "\n",
    "    def forward(self, x):\n",
    "        features, _ = self.lstm(x)\n",
    "        features, _ = self.lstm1(features)\n",
    "        features, _ = self.lstm2(features)\n",
    "        features = features.reshape(features.shape[0], -1)\n",
    "        pred = self.logits(features)\n",
    "        return pred"
   ],
   "metadata": {
    "execution": {
     "iopub.status.busy": "2022-04-05T22:01:06.811918Z",
     "iopub.execute_input": "2022-04-05T22:01:06.812183Z",
     "iopub.status.idle": "2022-04-05T22:01:06.82148Z",
     "shell.execute_reply.started": "2022-04-05T22:01:06.812148Z",
     "shell.execute_reply": "2022-04-05T22:01:06.820645Z"
    },
    "trusted": true,
    "pycharm": {
     "name": "#%%\n"
    }
   },
   "execution_count": 12,
   "outputs": []
  },
  {
   "cell_type": "markdown",
   "source": [
    "## Train\n",
    "Function to train model:"
   ],
   "metadata": {
    "pycharm": {
     "name": "#%% md\n"
    }
   }
  },
  {
   "cell_type": "code",
   "source": [
    "def train(\n",
    "    epochs,\n",
    "    model,\n",
    "    optimizer,\n",
    "    criterion,\n",
    "    sheduler,\n",
    "    train_iterator,\n",
    "    valid_iterator\n",
    "):  \n",
    "    for epoch in range(1, epochs + 1):\n",
    "        training_loss = 0.0\n",
    "        valid_loss = 0.0\n",
    "        model.train()\n",
    "            \n",
    "        for batch_idx, batch in enumerate(train_iterator):\n",
    "            optimizer.zero_grad()\n",
    "            batch[0] = batch[0].to(device)\n",
    "            predict = model(batch[0].float()).squeeze(-1)\n",
    "            loss = criterion(predict, batch[1].to(device).float())\n",
    "            loss.backward()\n",
    "            optimizer.step()\n",
    "            sheduler.step()\n",
    "            training_loss += loss.data.item()\n",
    "        training_loss /= len(train_iterator)\n",
    "        \n",
    "        model.eval()\n",
    "        \n",
    "        for batch_idx, batch in enumerate(valid_iterator):\n",
    "            batch[0] = batch[0].to(device)\n",
    "            predict = model(batch[0].float()).squeeze(-1)\n",
    "            loss = criterion(predict, batch[1].to(device).float())\n",
    "            valid_loss += loss.data.item()\n",
    "            \n",
    "        valid_loss /= len(valid_iterator)\n",
    "        \n",
    "        if epoch % 10 == 1:\n",
    "            print('Epoch: {}, Training Loss: {:.5f}, '\n",
    "                 'Validation Loss: {:.5f}'.format(epoch, training_loss, valid_loss))"
   ],
   "metadata": {
    "execution": {
     "iopub.status.busy": "2022-04-05T22:04:39.047628Z",
     "iopub.execute_input": "2022-04-05T22:04:39.047911Z",
     "iopub.status.idle": "2022-04-05T22:04:39.058486Z",
     "shell.execute_reply.started": "2022-04-05T22:04:39.047866Z",
     "shell.execute_reply": "2022-04-05T22:04:39.056944Z"
    },
    "trusted": true,
    "pycharm": {
     "name": "#%%\n"
    }
   },
   "execution_count": 13,
   "outputs": []
  },
  {
   "cell_type": "markdown",
   "source": [
    "## Predict\n",
    "Function to predict model. We use Intellex extension for Pytorch to accelerate inference:"
   ],
   "metadata": {
    "pycharm": {
     "name": "#%% md\n"
    }
   }
  },
  {
   "cell_type": "code",
   "source": [
    "def predict(\n",
    "    model,\n",
    "    loader,\n",
    "):\n",
    "    model.eval()\n",
    "    \n",
    "    preds = []\n",
    "    with torch.no_grad():\n",
    "        for data in loader:\n",
    "            data = data.to(device)\n",
    "            pred = model(data.float())\n",
    "            preds.append(pred.detach().cpu().numpy())\n",
    "\n",
    "    preds = np.concatenate(preds, 0)\n",
    "    \n",
    "    return preds"
   ],
   "metadata": {
    "execution": {
     "iopub.status.busy": "2022-04-05T22:07:39.829662Z",
     "iopub.execute_input": "2022-04-05T22:07:39.829947Z",
     "iopub.status.idle": "2022-04-05T22:07:39.83578Z",
     "shell.execute_reply.started": "2022-04-05T22:07:39.829912Z",
     "shell.execute_reply": "2022-04-05T22:07:39.834825Z"
    },
    "trusted": true,
    "pycharm": {
     "name": "#%%\n"
    }
   },
   "execution_count": 14,
   "outputs": []
  },
  {
   "cell_type": "markdown",
   "source": [
    "# Learning Cycle\n",
    "In training stage we use:\n",
    "* Learning rate = 0.0001 and sheduler to update learning rate\n",
    "* Optimizer - Adam\n",
    "* Loss - MSELoss\n",
    "* Epochs = 200"
   ],
   "metadata": {
    "pycharm": {
     "name": "#%% md\n"
    }
   }
  },
  {
   "cell_type": "code",
   "source": [
    "epochs = 200\n",
    "batch_size = 512\n",
    "seq_num = 60\n",
    "lr = 1e-4\n",
    "\n",
    "if torch.cuda.is_available():\n",
    "    device = 'cuda'\n",
    "else:\n",
    "    device = 'cpu'\n",
    "print(f\"Using device: {device}\")\n",
    "\n",
    "model = LSTM()\n",
    "model = model.to(device)\n",
    "optimizer = torch.optim.Adam(model.parameters(), lr = lr)\n",
    "\n",
    "num_warmup_steps = int(0.1 * epochs * len(train_dataloader))\n",
    "num_training_steps = int(epochs * len(train_dataloader))\n",
    "\n",
    "sheduler = get_linear_schedule_with_warmup(\n",
    "    optimizer, num_warmup_steps, num_training_steps\n",
    ")\n",
    "\n",
    "criterion = nn.MSELoss()\n",
    "\n",
    "train(epochs, model, optimizer, criterion, sheduler, train_dataloader, test_dataloader)"
   ],
   "metadata": {
    "execution": {
     "iopub.status.busy": "2022-04-05T22:05:06.047224Z",
     "iopub.execute_input": "2022-04-05T22:05:06.047638Z",
     "iopub.status.idle": "2022-04-05T22:05:18.835955Z",
     "shell.execute_reply.started": "2022-04-05T22:05:06.047603Z",
     "shell.execute_reply": "2022-04-05T22:05:18.834402Z"
    },
    "trusted": true,
    "pycharm": {
     "name": "#%%\n"
    }
   },
   "execution_count": 15,
   "outputs": [
    {
     "name": "stdout",
     "output_type": "stream",
     "text": [
      "Using device: cuda\n",
      "Epoch: 1, Training Loss: 0.35960, Validation Loss: 0.24898\n",
      "Epoch: 11, Training Loss: 0.13831, Validation Loss: 0.14007\n",
      "Epoch: 21, Training Loss: 0.09980, Validation Loss: 0.10962\n",
      "Epoch: 31, Training Loss: 0.05812, Validation Loss: 0.10305\n",
      "Epoch: 41, Training Loss: 0.02934, Validation Loss: 0.10767\n",
      "Epoch: 51, Training Loss: 0.01189, Validation Loss: 0.10492\n",
      "Epoch: 61, Training Loss: 0.00679, Validation Loss: 0.10456\n",
      "Epoch: 71, Training Loss: 0.00456, Validation Loss: 0.09518\n",
      "Epoch: 81, Training Loss: 0.00350, Validation Loss: 0.09550\n",
      "Epoch: 91, Training Loss: 0.00213, Validation Loss: 0.09487\n",
      "Epoch: 101, Training Loss: 0.00164, Validation Loss: 0.09467\n",
      "Epoch: 111, Training Loss: 0.00147, Validation Loss: 0.09566\n",
      "Epoch: 121, Training Loss: 0.00180, Validation Loss: 0.09464\n",
      "Epoch: 131, Training Loss: 0.00027, Validation Loss: 0.09379\n",
      "Epoch: 141, Training Loss: 0.00009, Validation Loss: 0.09375\n",
      "Epoch: 151, Training Loss: 0.00026, Validation Loss: 0.09382\n",
      "Epoch: 161, Training Loss: 0.00013, Validation Loss: 0.09424\n",
      "Epoch: 171, Training Loss: 0.00001, Validation Loss: 0.09248\n",
      "Epoch: 181, Training Loss: 0.00002, Validation Loss: 0.09234\n",
      "Epoch: 191, Training Loss: 0.00001, Validation Loss: 0.09278\n"
     ]
    }
   ]
  },
  {
   "cell_type": "markdown",
   "source": [
    "### Prediction\n",
    "now we apply our trained model to the test data & then make predictions"
   ],
   "metadata": {
    "pycharm": {
     "name": "#%% md\n"
    }
   }
  },
  {
   "cell_type": "code",
   "source": [
    "test_data = test_data.drop(['sequence', 'subject', 'step'], axis = 1)\n",
    "test_data = scaler.transform(test_data)"
   ],
   "metadata": {
    "execution": {
     "iopub.status.busy": "2022-04-05T22:05:27.41315Z",
     "iopub.execute_input": "2022-04-05T22:05:27.413402Z",
     "iopub.status.idle": "2022-04-05T22:05:27.520208Z",
     "shell.execute_reply.started": "2022-04-05T22:05:27.413374Z",
     "shell.execute_reply": "2022-04-05T22:05:27.519459Z"
    },
    "trusted": true,
    "pycharm": {
     "name": "#%%\n"
    }
   },
   "execution_count": 16,
   "outputs": []
  },
  {
   "cell_type": "code",
   "source": [
    "test_data.shape"
   ],
   "metadata": {
    "execution": {
     "iopub.status.busy": "2022-04-05T22:05:28.563072Z",
     "iopub.execute_input": "2022-04-05T22:05:28.563663Z",
     "iopub.status.idle": "2022-04-05T22:05:28.569803Z",
     "shell.execute_reply.started": "2022-04-05T22:05:28.563625Z",
     "shell.execute_reply": "2022-04-05T22:05:28.568957Z"
    },
    "trusted": true,
    "pycharm": {
     "name": "#%%\n"
    }
   },
   "execution_count": 17,
   "outputs": [
    {
     "data": {
      "text/plain": "(733080, 13)"
     },
     "execution_count": 17,
     "metadata": {},
     "output_type": "execute_result"
    }
   ]
  },
  {
   "cell_type": "code",
   "source": [
    "loader = prepare_data(test_data, None, 60, test_data.shape[0], 'test')"
   ],
   "metadata": {
    "execution": {
     "iopub.status.busy": "2022-04-05T22:05:30.18212Z",
     "iopub.execute_input": "2022-04-05T22:05:30.183015Z",
     "iopub.status.idle": "2022-04-05T22:05:30.329542Z",
     "shell.execute_reply.started": "2022-04-05T22:05:30.182967Z",
     "shell.execute_reply": "2022-04-05T22:05:30.328796Z"
    },
    "trusted": true,
    "pycharm": {
     "name": "#%%\n"
    }
   },
   "execution_count": 18,
   "outputs": []
  },
  {
   "cell_type": "code",
   "source": [
    "pred = predict(model, loader)"
   ],
   "metadata": {
    "execution": {
     "iopub.status.busy": "2022-04-05T22:07:47.268193Z",
     "iopub.execute_input": "2022-04-05T22:07:47.268876Z",
     "iopub.status.idle": "2022-04-05T22:07:47.5546Z",
     "shell.execute_reply.started": "2022-04-05T22:07:47.268839Z",
     "shell.execute_reply": "2022-04-05T22:07:47.553923Z"
    },
    "trusted": true,
    "pycharm": {
     "name": "#%%\n"
    }
   },
   "execution_count": 19,
   "outputs": []
  },
  {
   "cell_type": "code",
   "source": [
    "submission['state'] = pd.DataFrame(pred)"
   ],
   "metadata": {
    "execution": {
     "iopub.status.busy": "2022-04-05T22:07:48.979326Z",
     "iopub.execute_input": "2022-04-05T22:07:48.979872Z",
     "iopub.status.idle": "2022-04-05T22:07:48.985471Z",
     "shell.execute_reply.started": "2022-04-05T22:07:48.97983Z",
     "shell.execute_reply": "2022-04-05T22:07:48.984379Z"
    },
    "trusted": true,
    "pycharm": {
     "name": "#%%\n"
    }
   },
   "execution_count": 20,
   "outputs": []
  },
  {
   "cell_type": "code",
   "source": [
    "submission['state']"
   ],
   "metadata": {
    "execution": {
     "iopub.status.busy": "2022-04-05T22:07:51.3956Z",
     "iopub.execute_input": "2022-04-05T22:07:51.396222Z",
     "iopub.status.idle": "2022-04-05T22:07:51.404825Z",
     "shell.execute_reply.started": "2022-04-05T22:07:51.396176Z",
     "shell.execute_reply": "2022-04-05T22:07:51.403962Z"
    },
    "trusted": true,
    "pycharm": {
     "name": "#%%\n"
    }
   },
   "execution_count": 21,
   "outputs": [
    {
     "data": {
      "text/plain": "0        0.996635\n1        0.999785\n2        0.000708\n3        1.003762\n4        0.831336\n           ...   \n12213    0.291392\n12214    0.959934\n12215    0.764666\n12216   -0.002901\n12217    0.001709\nName: state, Length: 12218, dtype: float32"
     },
     "execution_count": 21,
     "metadata": {},
     "output_type": "execute_result"
    }
   ]
  },
  {
   "cell_type": "code",
   "source": [
    "submission.to_csv(\"submit.csv\", index = False)"
   ],
   "metadata": {
    "execution": {
     "iopub.status.busy": "2022-04-05T22:07:54.278263Z",
     "iopub.execute_input": "2022-04-05T22:07:54.281308Z",
     "iopub.status.idle": "2022-04-05T22:07:54.333409Z",
     "shell.execute_reply.started": "2022-04-05T22:07:54.28126Z",
     "shell.execute_reply": "2022-04-05T22:07:54.332726Z"
    },
    "trusted": true,
    "pycharm": {
     "name": "#%%\n"
    }
   },
   "execution_count": 22,
   "outputs": []
  },
  {
   "cell_type": "code",
   "execution_count": 23,
   "outputs": [
    {
     "data": {
      "text/plain": "72"
     },
     "execution_count": 23,
     "metadata": {},
     "output_type": "execute_result"
    }
   ],
   "source": [
    "gc.collect()"
   ],
   "metadata": {
    "collapsed": false,
    "pycharm": {
     "name": "#%%\n"
    }
   }
  }
 ]
}