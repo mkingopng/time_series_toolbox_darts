{
 "metadata": {
  "kernelspec": {
   "language": "python",
   "display_name": "Python 3",
   "name": "python3"
  },
  "language_info": {
   "pygments_lexer": "ipython3",
   "nbconvert_exporter": "python",
   "version": "3.6.4",
   "file_extension": ".py",
   "codemirror_mode": {
    "name": "ipython",
    "version": 3
   },
   "name": "python",
   "mimetype": "text/x-python"
  }
 },
 "nbformat_minor": 4,
 "nbformat": 4,
 "cells": [
  {
   "cell_type": "markdown",
   "source": [
    "# This notebook focuses on the idea of a one-stop shop for time series analysis:\n",
    "in the last few years, several packages have appeared that position themselves in such a fashion. We will take them for a test drive and have a look at how close they come to fulfilling the promise. Each of the packages implementing the \"automatic for the people\" philosophy for time series, and as such has it own dedicated section below:\n",
    "\n",
    "* [AutoTS](#section-one)\n",
    "* [Darts](#section-two)\n",
    "* [Kats](#section-three)\n",
    "* [Bonus track: GluonTS](#section-four) \n",
    "\n",
    "Disclaimer: since the packages we use are somewhat experimental, we will need to install each of them separately in their respective sections."
   ],
   "metadata": {
    "pycharm": {
     "name": "#%% md\n"
    }
   }
  },
  {
   "cell_type": "code",
   "source": [
    "import itertools\n",
    "import pandas as pd\n",
    "import numpy as np\n",
    "from random import gauss\n",
    "from sklearn.metrics import mean_squared_error as mse\n",
    "from sklearn.linear_model import Ridge\n",
    "import matplotlib as mpl\n",
    "import matplotlib.pyplot as plt\n",
    "import warnings\n",
    "\n",
    "from autots.models.model_list import model_lists\n",
    "from autots import AutoTS\n",
    "\n",
    "from darts.utils.missing_values import fill_missing_values\n",
    "from darts import TimeSeries\n",
    "from darts.models import Prophet, ExponentialSmoothing, AutoARIMA, Theta, RegressionEnsembleModel, RegressionModel\n",
    "from darts.metrics import rmse\n",
    "from darts.dataprocessing.transformers import Scaler\n",
    "from darts.models import RNNModel\n",
    "import darts.metrics as dme\n",
    "from darts.metrics import mape, mase\n",
    "from darts.utils.statistics import check_seasonality, plot_acf, plot_residuals_analysis, plot_hist\n",
    "from darts.datasets import AirPassengersDataset\n",
    "from darts.models import NaiveSeasonal, NaiveDrift\n",
    "\n",
    "from functools import reduce"
   ],
   "metadata": {
    "_uuid": "8f2839f25d086af736a60e9eeb907d3b93b6e0e5",
    "_cell_guid": "b1076dfc-b9ad-4769-8c92-a6c4dae69d19",
    "execution": {
     "iopub.status.busy": "2022-06-13T08:49:25.952116Z",
     "iopub.execute_input": "2022-06-13T08:49:25.952388Z",
     "iopub.status.idle": "2022-06-13T08:49:25.95854Z",
     "shell.execute_reply.started": "2022-06-13T08:49:25.952359Z",
     "shell.execute_reply": "2022-06-13T08:49:25.95786Z"
    },
    "trusted": true,
    "pycharm": {
     "name": "#%%\n"
    }
   },
   "execution_count": 2,
   "outputs": []
  },
  {
   "cell_type": "code",
   "source": [
    "plt.style.use('fivethirtyeight')\n",
    "warnings.simplefilter(action='ignore', category= FutureWarning)\n",
    "\n",
    "# general settings\n",
    "class CFG:\n",
    "    img_dim1 = 20\n",
    "    img_dim2 = 10\n",
    "    #  for faster iteration / execution\n",
    "    cutoff = '2018-01-01'        \n",
    "# adjust the parameters for displayed figures    \n",
    "plt.rcParams.update({'figure.figsize': (CFG.img_dim1, CFG.img_dim2)})"
   ],
   "metadata": {
    "execution": {
     "iopub.status.busy": "2022-06-13T08:49:25.960496Z",
     "iopub.execute_input": "2022-06-13T08:49:25.961047Z",
     "iopub.status.idle": "2022-06-13T08:49:25.970278Z",
     "shell.execute_reply.started": "2022-06-13T08:49:25.961003Z",
     "shell.execute_reply": "2022-06-13T08:49:25.969352Z"
    },
    "trusted": true,
    "pycharm": {
     "name": "#%%\n"
    }
   },
   "execution_count": 3,
   "outputs": []
  },
  {
   "cell_type": "code",
   "source": [
    "# helper functions\n",
    "def my_rmse(x,y):\n",
    "    return np.round(np.sqrt(mse(x, y)), 4)"
   ],
   "metadata": {
    "execution": {
     "iopub.status.busy": "2022-06-13T08:49:25.972346Z",
     "iopub.execute_input": "2022-06-13T08:49:25.973268Z",
     "iopub.status.idle": "2022-06-13T08:49:25.98415Z",
     "shell.execute_reply.started": "2022-06-13T08:49:25.9732Z",
     "shell.execute_reply": "2022-06-13T08:49:25.983552Z"
    },
    "trusted": true,
    "pycharm": {
     "name": "#%%\n"
    }
   },
   "execution_count": 4,
   "outputs": []
  },
  {
   "cell_type": "markdown",
   "source": [
    "For the sake of a meaningful comparison, we will stick to the same dataset across different models and revisit the Nifty-50 data we used in the ARIMA episode\n"
   ],
   "metadata": {
    "pycharm": {
     "name": "#%% md\n"
    }
   }
  },
  {
   "cell_type": "code",
   "source": [
    "stock_name = 'TATASTEEL'\n",
    "# load the data\n",
    "df = pd.read_csv(f'data/nifty_50_stock_market_data_2000_2020/{stock_name}.csv', usecols=['Date', 'VWAP'])\n",
    "df['Date'] = pd.to_datetime(df['Date'])\n",
    "df.set_index(\"Date\",  inplace=True)\n",
    "df.VWAP.plot(xlabel = '')"
   ],
   "metadata": {
    "execution": {
     "iopub.status.busy": "2022-06-13T08:50:11.132345Z",
     "iopub.execute_input": "2022-06-13T08:50:11.132605Z",
     "iopub.status.idle": "2022-06-13T08:50:11.625311Z",
     "shell.execute_reply.started": "2022-06-13T08:50:11.132578Z",
     "shell.execute_reply": "2022-06-13T08:50:11.62426Z"
    },
    "trusted": true,
    "pycharm": {
     "name": "#%%\n"
    }
   },
   "execution_count": 5,
   "outputs": [
    {
     "data": {
      "text/plain": "<AxesSubplot:>"
     },
     "execution_count": 5,
     "metadata": {},
     "output_type": "execute_result"
    },
    {
     "data": {
      "text/plain": "<Figure size 432x288 with 1 Axes>",
      "image/png": "[encoded data removed]"
     },
     "metadata": {
      "needs_background": "light"
     },
     "output_type": "display_data"
    }
   ]
  },
  {
   "cell_type": "code",
   "source": [
    "# split into training / validation\n",
    "df_train, df_test = df.iloc[df.index <= '2021-01-01'], df.iloc[df.index > '2021-01-01']\n",
    "print(df_train.shape, df_test.shape)"
   ],
   "metadata": {
    "execution": {
     "iopub.status.busy": "2022-06-13T08:50:18.060057Z",
     "iopub.execute_input": "2022-06-13T08:50:18.060778Z",
     "iopub.status.idle": "2022-06-13T08:50:18.070473Z",
     "shell.execute_reply.started": "2022-06-13T08:50:18.06073Z",
     "shell.execute_reply": "2022-06-13T08:50:18.069434Z"
    },
    "trusted": true,
    "pycharm": {
     "name": "#%%\n"
    }
   },
   "execution_count": 6,
   "outputs": [
    {
     "name": "stdout",
     "output_type": "stream",
     "text": [
      "(5227, 1) (79, 1)\n"
     ]
    }
   ]
  },
  {
   "cell_type": "markdown",
   "source": [
    "<a id=\"section-one\"></a>\n",
    "# AutoTS\n",
    "\n",
    "\n",
    "Auto-TS is the closest we have in applying the AutoML philosophy specifically to time series. Primary features include:\n",
    "\n",
    "* finding an optimal time series forecasting model using genetic programming optimization\n",
    "* training diverse models\n",
    "* data transformations \n",
    "* combination of metrics for model selection"
   ],
   "metadata": {
    "pycharm": {
     "name": "#%% md\n"
    }
   }
  },
  {
   "cell_type": "code",
   "source": [
    "# !pip install autots"
   ],
   "metadata": {
    "_kg_hide-output": true,
    "trusted": true,
    "pycharm": {
     "name": "#%%\n"
    }
   },
   "execution_count": 7,
   "outputs": []
  },
  {
   "cell_type": "markdown",
   "source": [
    "First thing we do: which models are available to play with? The possible candidate models are grouped into several (overlapping!) classes:"
   ],
   "metadata": {
    "pycharm": {
     "name": "#%% md\n"
    }
   }
  },
  {
   "cell_type": "code",
   "source": [
    "model_lists.keys()"
   ],
   "metadata": {
    "trusted": true,
    "pycharm": {
     "name": "#%%\n"
    }
   },
   "execution_count": 8,
   "outputs": [
    {
     "data": {
      "text/plain": "dict_keys(['all', 'default', 'fast', 'superfast', 'parallel', 'fast_parallel', 'probabilistic', 'multivariate', 'univariate', 'no_params', 'recombination_approved', 'no_shared', 'no_shared_fast', 'experimental', 'slow', 'gpu', 'regressor', 'best', 'motifs'])"
     },
     "execution_count": 8,
     "metadata": {},
     "output_type": "execute_result"
    }
   ]
  },
  {
   "cell_type": "code",
   "source": [
    "# full list of models:\n",
    "model_lists['all']"
   ],
   "metadata": {
    "trusted": true,
    "pycharm": {
     "name": "#%%\n"
    }
   },
   "execution_count": 9,
   "outputs": [
    {
     "data": {
      "text/plain": "['ConstantNaive',\n 'LastValueNaive',\n 'AverageValueNaive',\n 'GLS',\n 'GLM',\n 'ETS',\n 'ARIMA',\n 'FBProphet',\n 'RollingRegression',\n 'GluonTS',\n 'SeasonalNaive',\n 'UnobservedComponents',\n 'VARMAX',\n 'VECM',\n 'DynamicFactor',\n 'MotifSimulation',\n 'WindowRegression',\n 'VAR',\n 'TFPRegression',\n 'ComponentAnalysis',\n 'DatepartRegression',\n 'UnivariateRegression',\n 'Greykite',\n 'UnivariateMotif',\n 'MultivariateMotif',\n 'NVAR',\n 'MultivariateRegression',\n 'SectionalMotif',\n 'Theta',\n 'ARDL',\n 'NeuralProphet',\n 'DynamicFactorMQ',\n 'PytorchForecasting',\n 'ARCH']"
     },
     "execution_count": 9,
     "metadata": {},
     "output_type": "execute_result"
    }
   ]
  },
  {
   "cell_type": "code",
   "source": [
    "model_lists['fast']"
   ],
   "metadata": {
    "trusted": true,
    "pycharm": {
     "name": "#%%\n"
    }
   },
   "execution_count": 10,
   "outputs": [
    {
     "data": {
      "text/plain": "{'ConstantNaive': 1,\n 'LastValueNaive': 1.5,\n 'AverageValueNaive': 1,\n 'GLS': 1,\n 'SeasonalNaive': 1,\n 'GLM': 1,\n 'ETS': 1,\n 'VAR': 0.8,\n 'VECM': 1,\n 'WindowRegression': 0.5,\n 'DatepartRegression': 0.8,\n 'UnivariateMotif': 1,\n 'MultivariateMotif': 0.8,\n 'SectionalMotif': 1,\n 'NVAR': 1}"
     },
     "execution_count": 10,
     "metadata": {},
     "output_type": "execute_result"
    }
   ]
  },
  {
   "cell_type": "code",
   "source": [
    "model_lists['superfast']"
   ],
   "metadata": {
    "trusted": true,
    "pycharm": {
     "name": "#%%\n"
    }
   },
   "execution_count": 11,
   "outputs": [
    {
     "data": {
      "text/plain": "['ConstantNaive',\n 'LastValueNaive',\n 'AverageValueNaive',\n 'GLS',\n 'SeasonalNaive']"
     },
     "execution_count": 11,
     "metadata": {},
     "output_type": "execute_result"
    }
   ]
  },
  {
   "cell_type": "code",
   "source": [
    "model_lists['probabilistic']"
   ],
   "metadata": {
    "trusted": true,
    "pycharm": {
     "name": "#%%\n"
    }
   },
   "execution_count": 12,
   "outputs": [
    {
     "data": {
      "text/plain": "['ARIMA',\n 'GluonTS',\n 'FBProphet',\n 'AverageValueNaive',\n 'VARMAX',\n 'DynamicFactor',\n 'VAR',\n 'UnivariateMotif',\n 'MultivariateMotif',\n 'SectionalMotif',\n 'NVAR',\n 'Theta',\n 'ARDL',\n 'UnobservedComponents',\n 'DynamicFactorMQ',\n 'PytorchForecasting',\n 'ARCH']"
     },
     "execution_count": 12,
     "metadata": {},
     "output_type": "execute_result"
    }
   ]
  },
  {
   "cell_type": "markdown",
   "source": [
    "There are quite a few models to choose from (most of which weren't discussed before), but we focus on one: \n",
    "- the Theta method was proposed in 2000: https://www.researchgate.net/publication/223049702_The_theta_model_A_decomposition_approach_to_forecasting\n",
    "- regression on time + exponential smoothing\n",
    "- degrees of damping the trend via $\\theta$\n",
    "- de/reseasonalize\n",
    "\n",
    "\n",
    "OLS: \n",
    "\n",
    "\\begin{equation}\n",
    "    X_t = a_0 + b_0 (t-1) + \\epsilon_t \n",
    "\\end{equation}\n",
    "\n",
    "\n",
    "SES:\n",
    "\\begin{equation}\n",
    "S_t = (1 - \\alpha) X_t + \\alpha S_{t-1}\n",
    "\\end{equation}\n",
    "\n",
    "\n",
    "Forecast:\n",
    "\\begin{equation}\n",
    "\\hat{X}_{T+h|T} = \\frac{\\theta - 1}{\\theta} b_0 \\left[h - 1 + \\frac{1}{\\alpha} - \\frac{(1 - \\alpha)^T}{\\alpha} \\right] + S_{T+h | T}\n",
    "\\end{equation}\n"
   ],
   "metadata": {
    "pycharm": {
     "name": "#%% md\n"
    }
   }
  },
  {
   "cell_type": "markdown",
   "source": [
    "Specify the model parameters:"
   ],
   "metadata": {
    "pycharm": {
     "name": "#%% md\n"
    }
   }
  },
  {
   "cell_type": "code",
   "source": [
    "# specify the model\n",
    "model = AutoTS(\n",
    "    forecast_length=len(df_test),\n",
    "    frequency='infer',\n",
    "    prediction_interval=0.9,\n",
    "    ensemble= 'simple',  # select single best model\n",
    "    # we want some results, but also execution in reasonable time\n",
    "    # GA ARE SLOW\n",
    "    model_list =  ['GLM', 'Theta', 'ETS'], \n",
    "    transformer_list=\"superfast\",  \n",
    "    drop_most_recent=1,\n",
    "    max_generations=5,\n",
    "    num_validations=2,\n",
    "    validation_method=\"backwards\"\n",
    ")\n",
    "\n",
    "# fit the model\n",
    "model = model.fit(\n",
    "    df_train,\n",
    "#     date_col= None, # 'datetime' if long else None,\n",
    "#     value_col= None,#  'value' if long else None,\n",
    "#     id_col= None,   #'series_id' if long else None,\n",
    ")"
   ],
   "metadata": {
    "_kg_hide-output": true,
    "trusted": true,
    "pycharm": {
     "name": "#%%\n"
    }
   },
   "execution_count": 13,
   "outputs": [
    {
     "name": "stdout",
     "output_type": "stream",
     "text": [
      "Inferred frequency is: B\n",
      "Model Number: 1 with model ETS in generation 0 of 5\n",
      "Model Number: 2 with model ETS in generation 0 of 5\n",
      "Model Number: 3 with model GLM in generation 0 of 5\n",
      "Template Eval Error: TypeError(\"ufunc 'isfinite' not supported for the input types, and the inputs could not be safely coerced to any supported types according to the casting rule ''safe''\") in model 3: GLM\n",
      "Model Number: 4 with model GLM in generation 0 of 5\n",
      "Model Number: 5 with model ETS in generation 0 of 5\n",
      "Model Number: 6 with model Theta in generation 0 of 5\n",
      "Model Number: 7 with model GLM in generation 0 of 5\n",
      "Model Number: 8 with model Theta in generation 0 of 5\n"
     ]
    },
    {
     "name": "stderr",
     "output_type": "stream",
     "text": [
      "/home/noone/anaconda3/envs/time_series_toolbox_darts/lib/python3.9/site-packages/statsmodels/genmod/families/family.py:1346: RuntimeWarning: invalid value encountered in log\n",
      "  resid_dev -= endog_alpha * np.log(endog_alpha / mu_alpha)\n",
      "/home/noone/anaconda3/envs/time_series_toolbox_darts/lib/python3.9/site-packages/statsmodels/genmod/families/family.py:1342: RuntimeWarning: divide by zero encountered in true_divide\n",
      "  endog_mu = self._clean(endog / mu)\n"
     ]
    },
    {
     "name": "stdout",
     "output_type": "stream",
     "text": [
      "Model Number: 9 with model ETS in generation 0 of 5\n",
      "Model Number: 10 with model GLM in generation 0 of 5\n"
     ]
    },
    {
     "name": "stderr",
     "output_type": "stream",
     "text": [
      "/home/noone/anaconda3/envs/time_series_toolbox_darts/lib/python3.9/site-packages/statsmodels/genmod/generalized_linear_model.py:298: DomainWarning: The inverse_power link function does not respect the domain of the Gamma family.\n",
      "  warnings.warn((f\"The {type(family.link).__name__} link function \"\n"
     ]
    },
    {
     "name": "stdout",
     "output_type": "stream",
     "text": [
      "Model Number: 11 with model GLM in generation 0 of 5\n",
      "Template Eval Error: TypeError(\"ufunc 'isfinite' not supported for the input types, and the inputs could not be safely coerced to any supported types according to the casting rule ''safe''\") in model 11: GLM\n",
      "Model Number: 12 with model GLM in generation 0 of 5\n",
      "Template Eval Error: ValueError('The first guess on the deviance function returned a nan.  This could be a boundary  problem and should be reported.') in model 12: GLM\n",
      "Model Number: 13 with model ETS in generation 0 of 5\n"
     ]
    },
    {
     "name": "stderr",
     "output_type": "stream",
     "text": [
      "/home/noone/anaconda3/envs/time_series_toolbox_darts/lib/python3.9/site-packages/statsmodels/genmod/families/family.py:1346: RuntimeWarning: invalid value encountered in log\n",
      "  resid_dev -= endog_alpha * np.log(endog_alpha / mu_alpha)\n"
     ]
    },
    {
     "name": "stdout",
     "output_type": "stream",
     "text": [
      "Model Number: 14 with model GLM in generation 0 of 5\n",
      "Template Eval Error: TypeError(\"ufunc 'isfinite' not supported for the input types, and the inputs could not be safely coerced to any supported types according to the casting rule ''safe''\") in model 14: GLM\n",
      "Model Number: 15 with model ETS in generation 0 of 5\n",
      "Model Number: 16 with model GLM in generation 0 of 5\n",
      "Model Number: 17 with model ETS in generation 0 of 5\n",
      "Model Number: 18 with model GLM in generation 0 of 5\n",
      "Template Eval Error: ValueError('regression_type=user and no future_regressor passed') in model 18: GLM\n",
      "Model Number: 19 with model GLM in generation 0 of 5\n",
      "Model Number: 20 with model ETS in generation 0 of 5\n",
      "Model Number: 21 with model Theta in generation 0 of 5\n",
      "New Generation: 1 of 5\n",
      "Model Number: 22 with model ETS in generation 1 of 5\n",
      "Model Number: 23 with model ETS in generation 1 of 5\n",
      "Model Number: 24 with model Theta in generation 1 of 5\n",
      "Model Number: 25 with model Theta in generation 1 of 5\n",
      "Model Number: 26 with model ETS in generation 1 of 5\n",
      "Model Number: 27 with model ETS in generation 1 of 5\n",
      "Model Number: 28 with model ETS in generation 1 of 5\n",
      "Model Number: 29 with model GLM in generation 1 of 5\n",
      "Template Eval Error: ValueError('NaN, inf or invalid value detected in weights, estimation infeasible.') in model 29: GLM\n",
      "Model Number: 30 with model ETS in generation 1 of 5\n"
     ]
    },
    {
     "name": "stderr",
     "output_type": "stream",
     "text": [
      "/home/noone/anaconda3/envs/time_series_toolbox_darts/lib/python3.9/site-packages/statsmodels/genmod/families/family.py:426: RuntimeWarning: divide by zero encountered in true_divide\n",
      "  endog_mu = self._clean(endog / mu)\n",
      "/home/noone/anaconda3/envs/time_series_toolbox_darts/lib/python3.9/site-packages/statsmodels/genmod/families/family.py:132: RuntimeWarning: divide by zero encountered in true_divide\n",
      "  return 1. / (self.link.deriv(mu)**2 * self.variance(mu))\n"
     ]
    },
    {
     "name": "stdout",
     "output_type": "stream",
     "text": [
      "Model Number: 31 with model ETS in generation 1 of 5\n",
      "Model Number: 32 with model ETS in generation 1 of 5\n",
      "Model Number: 33 with model Theta in generation 1 of 5\n",
      "Model Number: 34 with model ETS in generation 1 of 5\n",
      "Model Number: 35 with model Theta in generation 1 of 5\n",
      "Model Number: 36 with model ETS in generation 1 of 5\n",
      "New Generation: 2 of 5\n",
      "Model Number: 37 with model ETS in generation 2 of 5\n",
      "Model Number: 38 with model ETS in generation 2 of 5\n",
      "Model Number: 39 with model ETS in generation 2 of 5\n",
      "Model Number: 40 with model Theta in generation 2 of 5\n",
      "Model Number: 41 with model ETS in generation 2 of 5\n",
      "Model Number: 42 with model ETS in generation 2 of 5\n",
      "Model Number: 43 with model ETS in generation 2 of 5\n",
      "Model Number: 44 with model GLM in generation 2 of 5\n",
      "Model Number: 45 with model Theta in generation 2 of 5\n"
     ]
    },
    {
     "name": "stderr",
     "output_type": "stream",
     "text": [
      "/home/noone/anaconda3/envs/time_series_toolbox_darts/lib/python3.9/site-packages/statsmodels/genmod/families/family.py:1346: RuntimeWarning: invalid value encountered in log\n",
      "  resid_dev -= endog_alpha * np.log(endog_alpha / mu_alpha)\n",
      "/home/noone/anaconda3/envs/time_series_toolbox_darts/lib/python3.9/site-packages/statsmodels/genmod/families/family.py:1342: RuntimeWarning: divide by zero encountered in true_divide\n",
      "  endog_mu = self._clean(endog / mu)\n"
     ]
    },
    {
     "name": "stdout",
     "output_type": "stream",
     "text": [
      "RUNNING THE L-BFGS-B CODE\n",
      "\n",
      "           * * *\n",
      "\n",
      "Machine precision = 2.220D-16\n",
      " N =            2     M =           10\n",
      "\n",
      "At X0         0 variables are exactly at the bounds\n",
      "\n",
      "At iterate    0    f= -3.13766D+00    |proj g|=  3.36631D+00\n"
     ]
    },
    {
     "name": "stderr",
     "output_type": "stream",
     "text": [
      " This problem is unconstrained.\n"
     ]
    },
    {
     "name": "stdout",
     "output_type": "stream",
     "text": [
      "\n",
      "           * * *\n",
      "\n",
      "Tit   = total number of iterations\n",
      "Tnf   = total number of function evaluations\n",
      "Tnint = total number of segments explored during Cauchy searches\n",
      "Skip  = number of BFGS updates skipped\n",
      "Nact  = number of active bounds at final generalized Cauchy point\n",
      "Projg = norm of the final projected gradient\n",
      "F     = final function value\n",
      "\n",
      "           * * *\n",
      "\n",
      "   N    Tit     Tnf  Tnint  Skip  Nact     Projg        F\n",
      "    2      3     23      1     0     0   1.656D-02  -3.138D+00\n",
      "  F =  -3.1379741973938065     \n",
      "\n",
      "CONVERGENCE: REL_REDUCTION_OF_F_<=_FACTR*EPSMCH             \n",
      "Model Number: 46 with model Theta in generation 2 of 5\n"
     ]
    },
    {
     "name": "stderr",
     "output_type": "stream",
     "text": [
      "\n",
      " Warning:  more than 10 function and gradient\n",
      "   evaluations in the last line search.  Termination\n",
      "   may possibly be caused by a bad search direction.\n"
     ]
    },
    {
     "name": "stdout",
     "output_type": "stream",
     "text": [
      "Model Number: 47 with model GLM in generation 2 of 5\n",
      "Model Number: 48 with model Theta in generation 2 of 5\n",
      "RUNNING THE L-BFGS-B CODE\n",
      "\n",
      "           * * *\n",
      "\n",
      "Machine precision = 2.220D-16\n",
      " N =            2     M =           10\n",
      "\n",
      "At X0         0 variables are exactly at the bounds\n",
      "\n",
      "At iterate    0    f=  3.70505D+00    |proj g|=  3.70380D-03\n",
      "\n",
      "           * * *\n",
      "\n",
      "Tit   = total number of iterations\n",
      "Tnf   = total number of function evaluations\n",
      "Tnint = total number of segments explored during Cauchy searches\n",
      "Skip  = number of BFGS updates skipped\n",
      "Nact  = number of active bounds at final generalized Cauchy point\n",
      "Projg = norm of the final projected gradient\n",
      "F     = final function value\n",
      "\n",
      "           * * *\n",
      "\n",
      "   N    Tit     Tnf  Tnint  Skip  Nact     Projg        F\n",
      "    2      2      4      1     0     0   6.125D-06   3.705D+00\n",
      "  F =   3.7047334480385534     \n",
      "\n",
      "CONVERGENCE: NORM_OF_PROJECTED_GRADIENT_<=_PGTOL            \n",
      "Model Number: 49 with model ETS in generation 2 of 5\n"
     ]
    },
    {
     "name": "stderr",
     "output_type": "stream",
     "text": [
      " This problem is unconstrained.\n"
     ]
    },
    {
     "name": "stdout",
     "output_type": "stream",
     "text": [
      "Model Number: 50 with model Theta in generation 2 of 5\n",
      "Model Number: 51 with model ETS in generation 2 of 5\n",
      "New Generation: 3 of 5\n",
      "Model Number: 52 with model GLM in generation 3 of 5\n",
      "Template Eval Error: ValueError('NaN, inf or invalid value detected in weights, estimation infeasible.') in model 52: GLM\n",
      "Model Number: 53 with model ETS in generation 3 of 5\n"
     ]
    },
    {
     "name": "stderr",
     "output_type": "stream",
     "text": [
      "/home/noone/anaconda3/envs/time_series_toolbox_darts/lib/python3.9/site-packages/statsmodels/genmod/families/family.py:426: RuntimeWarning: divide by zero encountered in true_divide\n",
      "  endog_mu = self._clean(endog / mu)\n",
      "/home/noone/anaconda3/envs/time_series_toolbox_darts/lib/python3.9/site-packages/statsmodels/genmod/families/family.py:132: RuntimeWarning: divide by zero encountered in true_divide\n",
      "  return 1. / (self.link.deriv(mu)**2 * self.variance(mu))\n"
     ]
    },
    {
     "name": "stdout",
     "output_type": "stream",
     "text": [
      "Model Number: 54 with model ETS in generation 3 of 5\n",
      "Model Number: 55 with model Theta in generation 3 of 5\n",
      "RUNNING THE L-BFGS-B CODE\n",
      "\n",
      "           * * *\n",
      "\n",
      "Machine precision = 2.220D-16\n",
      " N =            2     M =           10\n",
      "\n",
      "At X0         0 variables are exactly at the bounds\n",
      "\n",
      "At iterate    0    f= -1.77472D+00    |proj g|=  8.55671D-01\n",
      "\n",
      "At iterate    5    f= -1.77539D+00    |proj g|=  1.13491D-04\n"
     ]
    },
    {
     "name": "stderr",
     "output_type": "stream",
     "text": [
      " This problem is unconstrained.\n"
     ]
    },
    {
     "name": "stdout",
     "output_type": "stream",
     "text": [
      "\n",
      "           * * *\n",
      "\n",
      "Tit   = total number of iterations\n",
      "Tnf   = total number of function evaluations\n",
      "Tnint = total number of segments explored during Cauchy searches\n",
      "Skip  = number of BFGS updates skipped\n",
      "Nact  = number of active bounds at final generalized Cauchy point\n",
      "Projg = norm of the final projected gradient\n",
      "F     = final function value\n",
      "\n",
      "           * * *\n",
      "\n",
      "   N    Tit     Tnf  Tnint  Skip  Nact     Projg        F\n",
      "    2      6     22      1     0     0   1.135D-04  -1.775D+00\n",
      "  F =  -1.7753881423009572     \n",
      "\n",
      "CONVERGENCE: REL_REDUCTION_OF_F_<=_FACTR*EPSMCH             \n",
      "Model Number: 56 with model ETS in generation 3 of 5\n"
     ]
    },
    {
     "name": "stderr",
     "output_type": "stream",
     "text": [
      "\n",
      " Warning:  more than 10 function and gradient\n",
      "   evaluations in the last line search.  Termination\n",
      "   may possibly be caused by a bad search direction.\n"
     ]
    },
    {
     "name": "stdout",
     "output_type": "stream",
     "text": [
      "Model Number: 57 with model ETS in generation 3 of 5\n",
      "Model Number: 58 with model Theta in generation 3 of 5\n",
      "Model Number: 59 with model ETS in generation 3 of 5\n",
      "Model Number: 60 with model Theta in generation 3 of 5\n",
      "Model Number: 61 with model Theta in generation 3 of 5\n",
      "Model Number: 62 with model GLM in generation 3 of 5\n",
      "Template Eval Error: ValueError('The first guess on the deviance function returned a nan.  This could be a boundary  problem and should be reported.') in model 62: GLM\n",
      "Model Number: 63 with model Theta in generation 3 of 5\n"
     ]
    },
    {
     "name": "stderr",
     "output_type": "stream",
     "text": [
      "/home/noone/anaconda3/envs/time_series_toolbox_darts/lib/python3.9/site-packages/statsmodels/genmod/families/family.py:1346: RuntimeWarning: invalid value encountered in log\n",
      "  resid_dev -= endog_alpha * np.log(endog_alpha / mu_alpha)\n"
     ]
    },
    {
     "name": "stdout",
     "output_type": "stream",
     "text": [
      "Model Number: 64 with model ETS in generation 3 of 5\n",
      "Model Number: 65 with model GLM in generation 3 of 5\n",
      "Model Number: 66 with model GLM in generation 3 of 5\n",
      "Template Eval Error: ValueError('NaN, inf or invalid value detected in weights, estimation infeasible.') in model 66: GLM\n",
      "New Generation: 4 of 5\n"
     ]
    },
    {
     "name": "stderr",
     "output_type": "stream",
     "text": [
      "/home/noone/anaconda3/envs/time_series_toolbox_darts/lib/python3.9/site-packages/statsmodels/genmod/generalized_linear_model.py:298: DomainWarning: The inverse_power link function does not respect the domain of the Gamma family.\n",
      "  warnings.warn((f\"The {type(family.link).__name__} link function \"\n",
      "/home/noone/anaconda3/envs/time_series_toolbox_darts/lib/python3.9/site-packages/statsmodels/genmod/families/family.py:426: RuntimeWarning: divide by zero encountered in true_divide\n",
      "  endog_mu = self._clean(endog / mu)\n",
      "/home/noone/anaconda3/envs/time_series_toolbox_darts/lib/python3.9/site-packages/statsmodels/genmod/families/family.py:132: RuntimeWarning: divide by zero encountered in true_divide\n",
      "  return 1. / (self.link.deriv(mu)**2 * self.variance(mu))\n"
     ]
    },
    {
     "name": "stdout",
     "output_type": "stream",
     "text": [
      "Model Number: 67 with model ETS in generation 4 of 5\n",
      "Model Number: 68 with model ETS in generation 4 of 5\n",
      "Model Number: 69 with model Theta in generation 4 of 5\n",
      "Model Number: 70 with model Theta in generation 4 of 5\n",
      "Model Number: 71 with model Theta in generation 4 of 5\n",
      "Model Number: 72 with model ETS in generation 4 of 5\n",
      "Model Number: 73 with model ETS in generation 4 of 5\n",
      "Model Number: 74 with model Theta in generation 4 of 5\n",
      "Model Number: 75 with model GLM in generation 4 of 5\n",
      "Template Eval Error: ValueError('The first guess on the deviance function returned a nan.  This could be a boundary  problem and should be reported.') in model 75: GLM\n",
      "Model Number: 76 with model ETS in generation 4 of 5\n",
      "Model Number: 77 with model Theta in generation 4 of 5\n"
     ]
    },
    {
     "name": "stderr",
     "output_type": "stream",
     "text": [
      "/home/noone/anaconda3/envs/time_series_toolbox_darts/lib/python3.9/site-packages/statsmodels/genmod/families/family.py:1346: RuntimeWarning: invalid value encountered in log\n",
      "  resid_dev -= endog_alpha * np.log(endog_alpha / mu_alpha)\n"
     ]
    },
    {
     "name": "stdout",
     "output_type": "stream",
     "text": [
      "Model Number: 78 with model GLM in generation 4 of 5\n",
      "Template Eval Error: ValueError('The first guess on the deviance function returned a nan.  This could be a boundary  problem and should be reported.') in model 78: GLM\n",
      "Model Number: 79 with model ETS in generation 4 of 5\n"
     ]
    },
    {
     "name": "stderr",
     "output_type": "stream",
     "text": [
      "/home/noone/anaconda3/envs/time_series_toolbox_darts/lib/python3.9/site-packages/statsmodels/genmod/families/family.py:1346: RuntimeWarning: invalid value encountered in log\n",
      "  resid_dev -= endog_alpha * np.log(endog_alpha / mu_alpha)\n"
     ]
    },
    {
     "name": "stdout",
     "output_type": "stream",
     "text": [
      "Model Number: 80 with model Theta in generation 4 of 5\n",
      "Model Number: 81 with model ETS in generation 4 of 5\n",
      "New Generation: 5 of 5\n",
      "Model Number: 82 with model ETS in generation 5 of 5\n",
      "Model Number: 83 with model ETS in generation 5 of 5\n",
      "Model Number: 84 with model ETS in generation 5 of 5\n",
      "Model Number: 85 with model ETS in generation 5 of 5\n",
      "Model Number: 86 with model Theta in generation 5 of 5\n",
      "Model Number: 87 with model Theta in generation 5 of 5\n",
      "Model Number: 88 with model Theta in generation 5 of 5\n",
      "Model Number: 89 with model Theta in generation 5 of 5\n",
      "RUNNING THE L-BFGS-B CODE\n",
      "\n",
      "           * * *\n",
      "\n",
      "Machine precision = 2.220D-16\n",
      " N =            2     M =           10\n",
      "\n",
      "At X0         0 variables are exactly at the bounds\n",
      "\n",
      "At iterate    0    f= -3.20742D+00    |proj g|=  3.61191D+00\n"
     ]
    },
    {
     "name": "stderr",
     "output_type": "stream",
     "text": [
      " This problem is unconstrained.\n"
     ]
    },
    {
     "name": "stdout",
     "output_type": "stream",
     "text": [
      "\n",
      "           * * *\n",
      "\n",
      "Tit   = total number of iterations\n",
      "Tnf   = total number of function evaluations\n",
      "Tnint = total number of segments explored during Cauchy searches\n",
      "Skip  = number of BFGS updates skipped\n",
      "Nact  = number of active bounds at final generalized Cauchy point\n",
      "Projg = norm of the final projected gradient\n",
      "F     = final function value\n",
      "\n",
      "           * * *\n",
      "\n",
      "   N    Tit     Tnf  Tnint  Skip  Nact     Projg        F\n",
      "    2      3     19      1     0     0   2.289D-02  -3.208D+00\n",
      "  F =  -3.2077356864687574     \n",
      "\n",
      "CONVERGENCE: REL_REDUCTION_OF_F_<=_FACTR*EPSMCH             \n",
      "Model Number: 90 with model ETS in generation 5 of 5\n"
     ]
    },
    {
     "name": "stderr",
     "output_type": "stream",
     "text": [
      "\n",
      " Warning:  more than 10 function and gradient\n",
      "   evaluations in the last line search.  Termination\n",
      "   may possibly be caused by a bad search direction.\n"
     ]
    },
    {
     "name": "stdout",
     "output_type": "stream",
     "text": [
      "Model Number: 91 with model ETS in generation 5 of 5\n",
      "Model Number: 92 with model Theta in generation 5 of 5\n",
      "Model Number: 93 with model ETS in generation 5 of 5\n",
      "ETS error ValueError('endog must be strictly positive when usingmultiplicative trend or seasonal components.')\n",
      "ETS failed on VWAP with ValueError('endog must be strictly positive when usingmultiplicative trend or seasonal components.')\n",
      "Model Number: 94 with model Ensemble in generation 6 of Ensembles\n",
      "Model Number: 95 with model Ensemble in generation 6 of Ensembles\n",
      "Model Number: 96 with model Ensemble in generation 6 of Ensembles\n",
      "Model Number: 97 with model Ensemble in generation 6 of Ensembles\n",
      "Model Number: 98 with model Ensemble in generation 6 of Ensembles\n",
      "Model Number: 99 with model Ensemble in generation 6 of Ensembles\n",
      "Model Number: 100 with model Ensemble in generation 6 of Ensembles\n",
      "Validation Round: 1\n",
      "Model Number: 1 of 15 with model ETS for Validation 1\n",
      "📈 1 - ETS with avg smape 27.98: \n",
      "Model Number: 2 of 15 with model ETS for Validation 1\n",
      "2 - ETS with avg smape 27.98: \n",
      "Model Number: 3 of 15 with model Ensemble for Validation 1\n",
      "3 - Ensemble with avg smape 32.59: \n",
      "Model Number: 4 of 15 with model Ensemble for Validation 1\n",
      "📈 4 - Ensemble with avg smape 26.92: \n",
      "Model Number: 5 of 15 with model ETS for Validation 1\n",
      "5 - ETS with avg smape 42.86: \n",
      "Model Number: 6 of 15 with model Ensemble for Validation 1\n",
      "6 - Ensemble with avg smape 29.28: \n",
      "Model Number: 7 of 15 with model Ensemble for Validation 1\n",
      "7 - Ensemble with avg smape 41.96: \n",
      "Model Number: 8 of 15 with model Ensemble for Validation 1\n",
      "📈 8 - Ensemble with avg smape 19.44: \n",
      "Model Number: 9 of 15 with model ETS for Validation 1\n",
      "9 - ETS with avg smape 42.93: \n",
      "Model Number: 10 of 15 with model ETS for Validation 1\n",
      "10 - ETS with avg smape 41.96: \n",
      "Model Number: 11 of 15 with model ETS for Validation 1\n",
      "11 - ETS with avg smape 42.58: \n",
      "Model Number: 12 of 15 with model Theta for Validation 1\n",
      "12 - Theta with avg smape 25.24: \n",
      "Model Number: 13 of 15 with model Ensemble for Validation 1\n",
      "📈 13 - Ensemble with avg smape 13.76: \n",
      "Model Number: 14 of 15 with model Theta for Validation 1\n",
      "14 - Theta with avg smape 25.82: \n",
      "Model Number: 15 of 15 with model Theta for Validation 1\n",
      "15 - Theta with avg smape 24.79: \n",
      "Validation Round: 2\n",
      "Model Number: 1 of 15 with model ETS for Validation 2\n",
      "📈 1 - ETS with avg smape 38.06: \n",
      "Model Number: 2 of 15 with model ETS for Validation 2\n",
      "📈 2 - ETS with avg smape 37.0: \n",
      "Model Number: 3 of 15 with model Ensemble for Validation 2\n",
      "📈 3 - Ensemble with avg smape 36.08: \n",
      "Model Number: 4 of 15 with model Ensemble for Validation 2\n",
      "4 - Ensemble with avg smape 36.42: \n",
      "Model Number: 5 of 15 with model ETS for Validation 2\n",
      "📈 5 - ETS with avg smape 33.15: \n",
      "Model Number: 6 of 15 with model Ensemble for Validation 2\n",
      "6 - Ensemble with avg smape 34.71: \n",
      "Model Number: 7 of 15 with model Ensemble for Validation 2\n",
      "7 - Ensemble with avg smape 35.54: \n",
      "Model Number: 8 of 15 with model Ensemble for Validation 2\n",
      "8 - Ensemble with avg smape 35.12: \n",
      "Model Number: 9 of 15 with model ETS for Validation 2\n",
      "9 - ETS with avg smape 34.7: \n",
      "Model Number: 10 of 15 with model ETS for Validation 2\n",
      "10 - ETS with avg smape 35.54: \n",
      "Model Number: 11 of 15 with model ETS for Validation 2\n",
      "11 - ETS with avg smape 34.75: \n",
      "Model Number: 12 of 15 with model Theta for Validation 2\n",
      "12 - Theta with avg smape 34.21: \n",
      "Model Number: 13 of 15 with model Ensemble for Validation 2\n",
      "13 - Ensemble with avg smape 33.64: \n",
      "Model Number: 14 of 15 with model Theta for Validation 2\n",
      "14 - Theta with avg smape 34.6: \n",
      "Model Number: 15 of 15 with model Theta for Validation 2\n",
      "📈 15 - Theta with avg smape 32.27: \n"
     ]
    }
   ]
  },
  {
   "cell_type": "code",
   "source": [
    "prediction = model.predict()  # generate prediction\n",
    "prediction.plot(model.df_wide_numeric,\n",
    "                series=model.df_wide_numeric.columns[0],\n",
    "                start_date=\"2019-01-01\")  # plot a sample"
   ],
   "metadata": {
    "_kg_hide-output": true,
    "trusted": true,
    "pycharm": {
     "name": "#%%\n"
    }
   },
   "execution_count": 14,
   "outputs": [
    {
     "data": {
      "text/plain": "<Figure size 432x288 with 1 Axes>",
      "image/png": "[encoded data removed]"
     },
     "metadata": {
      "needs_background": "light"
     },
     "output_type": "display_data"
    }
   ]
  },
  {
   "cell_type": "code",
   "source": [
    "# Print the details of the best model\n",
    "print(model)"
   ],
   "metadata": {
    "trusted": true,
    "pycharm": {
     "name": "#%%\n"
    }
   },
   "execution_count": 15,
   "outputs": [
    {
     "name": "stdout",
     "output_type": "stream",
     "text": [
      "Initiated AutoTS object with best model: \n",
      "Ensemble\n",
      "{}\n",
      "{'model_name': 'BestN', 'model_count': 3, 'model_metric': 'horizontal', 'models': {'7ac5ec7d697c6f9c78c55ec5fe1d653b': {'Model': 'GLM', 'ModelParameters': '{\"family\": \"Poisson\", \"constant\": true, \"regression_type\": null}', 'TransformationParameters': '{\"fillna\": \"ffill\", \"transformations\": {\"0\": \"SeasonalDifference\", \"1\": \"bkfilter\", \"2\": \"SeasonalDifference\", \"3\": \"SeasonalDifference\"}, \"transformation_params\": {\"0\": {\"lag_1\": 12, \"method\": \"LastValue\"}, \"1\": {}, \"2\": {\"lag_1\": 7, \"method\": \"Median\"}, \"3\": {\"lag_1\": 7, \"method\": \"Median\"}}}'}, 'cbde7f68586b4b749ab56fcb9f70ee4d': {'Model': 'ETS', 'ModelParameters': '{\"damped_trend\": false, \"trend\": \"additive\", \"seasonal\": null, \"seasonal_periods\": null}', 'TransformationParameters': '{\"fillna\": \"mean\", \"transformations\": {\"0\": \"Detrend\", \"1\": \"Slice\"}, \"transformation_params\": {\"0\": {\"model\": \"Linear\", \"phi\": 1, \"window\": null}, \"1\": {\"method\": 0.5}}}'}, '3feb0288ca99f818b082fea8329eb4f2': {'Model': 'Theta', 'ModelParameters': '{\"deseasonalize\": true, \"difference\": true, \"use_test\": true, \"method\": \"auto\", \"period\": null, \"theta\": 3, \"use_mle\": false}', 'TransformationParameters': '{\"fillna\": \"rolling_mean_24\", \"transformations\": {\"0\": \"Detrend\"}, \"transformation_params\": {\"0\": {\"model\": \"Linear\", \"phi\": 1, \"window\": null}}}'}}, 'model_weights': {}, 'point_method': 'mean'}\n",
      "SMAPE: 17.195605593195598, 13.763997649519988, 33.643497499251225\n",
      "MAE: 84.27450594820148, 49.28713752742177, 122.92564583321399\n",
      "SPL: 7.229356950111635, 5.245331290758345, 6.610041893916345\n"
     ]
    }
   ]
  },
  {
   "cell_type": "code",
   "source": [
    "# point forecasts \n",
    "forecasts_df = prediction.forecast\n",
    "\n",
    "# upper and lower forecasts\n",
    "forecasts_up, forecasts_low = prediction.upper_forecast, prediction.lower_forecast"
   ],
   "metadata": {
    "trusted": true,
    "pycharm": {
     "name": "#%%\n"
    }
   },
   "execution_count": 16,
   "outputs": []
  },
  {
   "cell_type": "code",
   "source": [
    "# quality of all tried model results\n",
    "model_results = model.results()\n",
    "model_results.head(3)"
   ],
   "metadata": {
    "trusted": true,
    "pycharm": {
     "name": "#%%\n"
    }
   },
   "execution_count": 17,
   "outputs": [
    {
     "data": {
      "text/plain": "                                 ID Model  \\\n0  fc88eb52260a48e4849caa581f4a956a   ETS   \n1  14b3db37578d8ef10cd944886e631dfc   ETS   \n2  f9165705030a1b5defa914d3f8ab7945   GLM   \n\n                                     ModelParameters  \\\n0  {\"damped_trend\": false, \"trend\": \"additive\", \"...   \n1  {\"damped_trend\": false, \"trend\": null, \"season...   \n2  {\"family\": \"Binomial\", \"constant\": false, \"reg...   \n\n                            TransformationParameters  TransformationRuntime  \\\n0  {\"fillna\": \"mean\", \"transformations\": {\"0\": \"C... 0 days 00:00:00.002231   \n1  {\"fillna\": \"rolling_mean\", \"transformations\": ... 0 days 00:00:00.004528   \n2  {\"fillna\": \"ffill_mean_biased\", \"transformatio...        0 days 00:00:00   \n\n              FitRuntime         PredictRuntime           TotalRuntime  \\\n0 0 days 00:00:00.000016 0 days 00:00:00.233057 0 days 00:00:00.237920   \n1 0 days 00:00:00.000016 0 days 00:00:00.172102 0 days 00:00:00.179355   \n2 0 days 00:00:00.017887        0 days 00:00:00 0 days 00:00:00.017887   \n\n   Ensemble                                         Exceptions  ...  \\\n0         0                                                NaN  ...   \n1         0                                                NaN  ...   \n2         0  TypeError(\"ufunc 'isfinite' not supported for ...  ...   \n\n   mle_weighted  imle_weighted  spl_weighted  containment_weighted  \\\n0      62.52113      23.052976      9.825531              0.949367   \n1      82.34597      13.214384      9.097852              0.949367   \n2           NaN            NaN           NaN                   NaN   \n\n   contour_weighted  maxe_weighted  oda_weighted  mqae_weighted  \\\n0          0.670886     187.218500       0.56962      70.026995   \n1          0.443038     234.253171       0.56962      75.823881   \n2               NaN            NaN           NaN            NaN   \n\n   TotalRuntimeSeconds      Score  \n0                    1  26.336980  \n1                    1  27.812783  \n2                    1        NaN  \n\n[3 rows x 41 columns]",
      "text/html": "<div>\n<style scoped>\n    .dataframe tbody tr th:only-of-type {\n        vertical-align: middle;\n    }\n\n    .dataframe tbody tr th {\n        vertical-align: top;\n    }\n\n    .dataframe thead th {\n        text-align: right;\n    }\n</style>\n<table border=\"1\" class=\"dataframe\">\n  <thead>\n    <tr style=\"text-align: right;\">\n      <th></th>\n      <th>ID</th>\n      <th>Model</th>\n      <th>ModelParameters</th>\n      <th>TransformationParameters</th>\n      <th>TransformationRuntime</th>\n      <th>FitRuntime</th>\n      <th>PredictRuntime</th>\n      <th>TotalRuntime</th>\n      <th>Ensemble</th>\n      <th>Exceptions</th>\n      <th>...</th>\n      <th>mle_weighted</th>\n      <th>imle_weighted</th>\n      <th>spl_weighted</th>\n      <th>containment_weighted</th>\n      <th>contour_weighted</th>\n      <th>maxe_weighted</th>\n      <th>oda_weighted</th>\n      <th>mqae_weighted</th>\n      <th>TotalRuntimeSeconds</th>\n      <th>Score</th>\n    </tr>\n  </thead>\n  <tbody>\n    <tr>\n      <th>0</th>\n      <td>fc88eb52260a48e4849caa581f4a956a</td>\n      <td>ETS</td>\n      <td>{\"damped_trend\": false, \"trend\": \"additive\", \"...</td>\n      <td>{\"fillna\": \"mean\", \"transformations\": {\"0\": \"C...</td>\n      <td>0 days 00:00:00.002231</td>\n      <td>0 days 00:00:00.000016</td>\n      <td>0 days 00:00:00.233057</td>\n      <td>0 days 00:00:00.237920</td>\n      <td>0</td>\n      <td>NaN</td>\n      <td>...</td>\n      <td>62.52113</td>\n      <td>23.052976</td>\n      <td>9.825531</td>\n      <td>0.949367</td>\n      <td>0.670886</td>\n      <td>187.218500</td>\n      <td>0.56962</td>\n      <td>70.026995</td>\n      <td>1</td>\n      <td>26.336980</td>\n    </tr>\n    <tr>\n      <th>1</th>\n      <td>14b3db37578d8ef10cd944886e631dfc</td>\n      <td>ETS</td>\n      <td>{\"damped_trend\": false, \"trend\": null, \"season...</td>\n      <td>{\"fillna\": \"rolling_mean\", \"transformations\": ...</td>\n      <td>0 days 00:00:00.004528</td>\n      <td>0 days 00:00:00.000016</td>\n      <td>0 days 00:00:00.172102</td>\n      <td>0 days 00:00:00.179355</td>\n      <td>0</td>\n      <td>NaN</td>\n      <td>...</td>\n      <td>82.34597</td>\n      <td>13.214384</td>\n      <td>9.097852</td>\n      <td>0.949367</td>\n      <td>0.443038</td>\n      <td>234.253171</td>\n      <td>0.56962</td>\n      <td>75.823881</td>\n      <td>1</td>\n      <td>27.812783</td>\n    </tr>\n    <tr>\n      <th>2</th>\n      <td>f9165705030a1b5defa914d3f8ab7945</td>\n      <td>GLM</td>\n      <td>{\"family\": \"Binomial\", \"constant\": false, \"reg...</td>\n      <td>{\"fillna\": \"ffill_mean_biased\", \"transformatio...</td>\n      <td>0 days 00:00:00</td>\n      <td>0 days 00:00:00.017887</td>\n      <td>0 days 00:00:00</td>\n      <td>0 days 00:00:00.017887</td>\n      <td>0</td>\n      <td>TypeError(\"ufunc 'isfinite' not supported for ...</td>\n      <td>...</td>\n      <td>NaN</td>\n      <td>NaN</td>\n      <td>NaN</td>\n      <td>NaN</td>\n      <td>NaN</td>\n      <td>NaN</td>\n      <td>NaN</td>\n      <td>NaN</td>\n      <td>1</td>\n      <td>NaN</td>\n    </tr>\n  </tbody>\n</table>\n<p>3 rows × 41 columns</p>\n</div>"
     },
     "execution_count": 17,
     "metadata": {},
     "output_type": "execute_result"
    }
   ]
  },
  {
   "cell_type": "code",
   "source": [
    "# performance\n",
    "my_rmse(forecasts_df, df_test.VWAP)"
   ],
   "metadata": {
    "trusted": true,
    "pycharm": {
     "name": "#%%\n"
    }
   },
   "execution_count": 18,
   "outputs": [
    {
     "data": {
      "text/plain": "186.9652"
     },
     "execution_count": 18,
     "metadata": {},
     "output_type": "execute_result"
    }
   ]
  },
  {
   "cell_type": "markdown",
   "source": [
    "# `AutoTS` summary:\n",
    "* minimalistic setup - but tinkering possible\n",
    "* cornucopia of (univariate) models\n",
    "* GA is **slow**\n",
    "* very much beta version\n",
    "\n",
    "<a id=\"section-two\"></a>\n"
   ],
   "metadata": {
    "pycharm": {
     "name": "#%% md\n"
    }
   },
   "attachments": {
    "40af9230-4fa5-412b-9c57-0624b7331dad.png": {
     "image/png": "[encoded data removed]"
    }
   }
  },
  {
   "cell_type": "markdown",
   "source": [
    "<a id=\"section-three\"></a>\n",
    "# Kats\n",
    "\n",
    "Facebook Research unit made its first appearance in this series thanks to Prophet, but it is far from their only contribution to time series - recently they released their own one-stop-shop in the form of `Kats`: https://facebookresearch.github.io/Kats/. The elevator pitch for `Kats` contains it with  generic analysis, forecasting, anomaly detection, multivariate analysis, and feature extraction/embedding. An interesting feature is that it incorporates both vintage methods like ARIMA and modern ones (based on LSTM). \n",
    "\n",
    "\n",
    "Kats implements an ensembling solution just like `darts` (choosing an implementation is a YMMV type of situation), but their take on backtesting has useful metrics info not available - at least not so easily - in darts."
   ],
   "metadata": {
    "pycharm": {
     "name": "#%% md\n"
    }
   }
  },
  {
   "cell_type": "code",
   "source": [
    "# !pip install llvmlite --ignore-installed"
   ],
   "metadata": {
    "_kg_hide-output": true,
    "trusted": true,
    "pycharm": {
     "name": "#%%\n"
    }
   },
   "execution_count": null,
   "outputs": []
  },
  {
   "cell_type": "code",
   "source": [
    "# !pip install kats"
   ],
   "metadata": {
    "_kg_hide-output": true,
    "trusted": true,
    "pycharm": {
     "name": "#%%\n"
    }
   },
   "execution_count": null,
   "outputs": []
  },
  {
   "cell_type": "code",
   "source": [
    "from kats.models.prophet import ProphetModel, ProphetParams\n",
    "from kats.models.holtwinters import HoltWintersParams, HoltWintersModel\n",
    "from kats.models.arima import ARIMAModel, ARIMAParams\n",
    "\n",
    "from kats.utils.backtesters import BackTesterSimple\n"
   ],
   "metadata": {
    "trusted": true,
    "pycharm": {
     "name": "#%%\n"
    }
   },
   "execution_count": null,
   "outputs": []
  },
  {
   "cell_type": "code",
   "source": [
    "# stock_name = 'AXISBANK'\n",
    "df = pd.read_csv('data/nifty50-stock-market-data/{stock_name}.csv', usecols = ['Date', 'VWAP'])\n",
    "# df = df.loc[df.Date > CFG.cutoff]\n",
    "# NAs strike again :-( \n",
    "\n",
    "# df.set_index(\"Date\").VWAP.plot()\n",
    "# df = pd.read_csv(CFG.data_folder + 'energy_daily.csv')\n",
    "df['y'] = df['y'] / 10**4\n",
    "df.set_index(\"ds\").y.plot()\n"
   ],
   "metadata": {
    "trusted": true,
    "pycharm": {
     "name": "#%%\n"
    }
   },
   "execution_count": null,
   "outputs": []
  },
  {
   "cell_type": "code",
   "source": [
    "# prepare into Kats format\n",
    "from kats.consts import TimeSeriesData\n",
    "df.columns = [\"time\", \"value\"]\n",
    "df['time'] = pd.to_datetime(df['time'])\n",
    "df_ts = TimeSeriesData(df, time_col_name=\"time\")"
   ],
   "metadata": {
    "trusted": true,
    "pycharm": {
     "name": "#%%\n"
    }
   },
   "execution_count": null,
   "outputs": []
  },
  {
   "cell_type": "code",
   "source": [
    "backtester_errors = {}\n",
    "\n",
    "# specify the metrics we are interested in\n",
    "ALL_ERRORS = ['mape', 'smape', 'mae', 'mase', 'mse', 'rmse']"
   ],
   "metadata": {
    "trusted": true,
    "pycharm": {
     "name": "#%%\n"
    }
   },
   "execution_count": null,
   "outputs": []
  },
  {
   "cell_type": "code",
   "source": [
    "!wget https://raw.githubusercontent.com/facebookresearch/Kats/main/kats/data/air_passengers.csv"
   ],
   "metadata": {
    "trusted": true,
    "pycharm": {
     "name": "#%%\n"
    }
   },
   "execution_count": null,
   "outputs": []
  },
  {
   "cell_type": "code",
   "source": [
    "air_passengers_df = pd.read_csv(\"air_passengers.csv\")\n",
    "air_passengers_df.columns = [\"time\", \"value\"]\n",
    "air_passengers_ts = TimeSeriesData(air_passengers_df)\n"
   ],
   "metadata": {
    "trusted": true,
    "pycharm": {
     "name": "#%%\n"
    }
   },
   "execution_count": null,
   "outputs": []
  },
  {
   "cell_type": "markdown",
   "source": [
    "ARIMA model:"
   ],
   "metadata": {
    "pycharm": {
     "name": "#%% md\n"
    }
   }
  },
  {
   "cell_type": "code",
   "source": [
    "\n",
    "params = ARIMAParams(p=2, d=1, q=1)\n",
    "\n",
    "backtester_arima = BackTesterSimple(\n",
    "    error_methods=ALL_ERRORS,\n",
    "    data= df_ts,\n",
    "    params=params,\n",
    "    train_percentage=75,\n",
    "    test_percentage=25, \n",
    "    model_class=ARIMAModel)\n",
    "\n",
    "backtester_arima.run_backtest()"
   ],
   "metadata": {
    "_kg_hide-output": true,
    "trusted": true,
    "pycharm": {
     "name": "#%%\n"
    }
   },
   "execution_count": null,
   "outputs": []
  },
  {
   "cell_type": "code",
   "source": [
    "# store the errors in the dictionary\n",
    "backtester_errors['arima'] = {}\n",
    "for error, value in backtester_arima.errors.items():\n",
    "    backtester_errors['arima'][error] = value"
   ],
   "metadata": {
    "trusted": true,
    "pycharm": {
     "name": "#%%\n"
    }
   },
   "execution_count": null,
   "outputs": []
  },
  {
   "cell_type": "markdown",
   "source": [
    "Prophet:"
   ],
   "metadata": {
    "pycharm": {
     "name": "#%% md\n"
    }
   }
  },
  {
   "cell_type": "code",
   "source": [
    "params_prophet = ProphetParams(seasonality_mode='multiplicative') # additive mode gives worse results\n",
    "\n",
    "backtester_prophet = BackTesterSimple(\n",
    "    error_methods=ALL_ERRORS,\n",
    "    data=df_ts,\n",
    "    params=params_prophet,\n",
    "    train_percentage=75,\n",
    "    test_percentage=25, \n",
    "    model_class=ProphetModel)\n",
    "\n",
    "backtester_prophet.run_backtest()\n",
    "\n"
   ],
   "metadata": {
    "_kg_hide-output": true,
    "trusted": true,
    "pycharm": {
     "name": "#%%\n"
    }
   },
   "execution_count": null,
   "outputs": []
  },
  {
   "cell_type": "code",
   "source": [
    "backtester_errors['prophet'] = {}\n",
    "for error, value in backtester_prophet.errors.items():\n",
    "    backtester_errors['prophet'][error] = value"
   ],
   "metadata": {
    "trusted": true,
    "pycharm": {
     "name": "#%%\n"
    }
   },
   "execution_count": null,
   "outputs": []
  },
  {
   "cell_type": "markdown",
   "source": [
    "Exponential smoothing:\n"
   ],
   "metadata": {
    "pycharm": {
     "name": "#%% md\n"
    }
   }
  },
  {
   "cell_type": "code",
   "source": [
    "params_hw = HoltWintersParams(trend = 'additive') # additive mode gives worse results\n",
    "\n",
    "backtester_hw = BackTesterSimple(\n",
    "    error_methods=ALL_ERRORS,\n",
    "    data=df_ts,\n",
    "    params=params_hw,\n",
    "    train_percentage=75,\n",
    "    test_percentage=25, \n",
    "    model_class=HoltWintersModel)\n",
    "\n",
    "backtester_hw.run_backtest()\n"
   ],
   "metadata": {
    "trusted": true,
    "pycharm": {
     "name": "#%%\n"
    }
   },
   "execution_count": null,
   "outputs": []
  },
  {
   "cell_type": "code",
   "source": [
    "backtester_errors['hw'] = {}\n",
    "for error, value in backtester_hw.errors.items():\n",
    "    backtester_errors['hw'][error] = value"
   ],
   "metadata": {
    "trusted": true,
    "pycharm": {
     "name": "#%%\n"
    }
   },
   "execution_count": null,
   "outputs": []
  },
  {
   "cell_type": "markdown",
   "source": [
    "Combine the results:\n"
   ],
   "metadata": {
    "pycharm": {
     "name": "#%% md\n"
    }
   }
  },
  {
   "cell_type": "code",
   "source": [
    "pd.DataFrame.from_dict(backtester_errors)"
   ],
   "metadata": {
    "trusted": true,
    "pycharm": {
     "name": "#%%\n"
    }
   },
   "execution_count": null,
   "outputs": []
  },
  {
   "cell_type": "markdown",
   "source": [
    "`Kats` takeaway:\n",
    "* multiple models - statistics, DL, hybrid (but fewer than darts)\n",
    "* backstesting - more metrics\n",
    "* ensembling \n",
    "* global model!\n"
   ],
   "metadata": {
    "pycharm": {
     "name": "#%% md\n"
    }
   }
  },
  {
   "cell_type": "markdown",
   "source": [
    "Don't say goodbye to `darts` and `Kats` just yet - we will meet them in again, in the episode dedicated to meta learning and transfer learning for time series. "
   ],
   "metadata": {
    "pycharm": {
     "name": "#%% md\n"
    }
   }
  },
  {
   "cell_type": "markdown",
   "source": [
    "<a id=\"section-four\"></a>\n",
    "# Bonus track: GluonTS\n",
    "\n",
    "For some inexplicable reason, `GluonTS` escaped my attention when I was writing this episode - but if a rock band can release a new version of an album with extra material, so can I :-) GluonTS is a library for probabilistic time series modeling, focusing on deep learning; while there are numerous libraries utilizing DL (including some desribed above), it's the probabilistic part that makes Gluon truly stand out (well, and the fact they are one of a few environments left that keep the torch burning for `MXNet`). In this section, we will take Gluon for a test drive."
   ],
   "metadata": {
    "pycharm": {
     "name": "#%% md\n"
    }
   }
  },
  {
   "cell_type": "code",
   "source": [
    "!pip install --upgrade mxnet==1.6.0\n",
    "!pip install gluonts"
   ],
   "metadata": {
    "_kg_hide-output": true,
    "execution": {
     "iopub.status.busy": "2022-06-13T09:46:04.54316Z",
     "iopub.execute_input": "2022-06-13T09:46:04.543636Z",
     "iopub.status.idle": "2022-06-13T09:46:36.478987Z",
     "shell.execute_reply.started": "2022-06-13T09:46:04.543588Z",
     "shell.execute_reply": "2022-06-13T09:46:36.477253Z"
    },
    "trusted": true,
    "pycharm": {
     "name": "#%%\n"
    }
   },
   "execution_count": null,
   "outputs": []
  },
  {
   "cell_type": "markdown",
   "source": [
    "`GluonTS` comes with several DL models - full list of references (including source papers) is available in the official documentation https://github.com/awslabs/gluon-ts:\n",
    "\n",
    "- DeepAR\n",
    "- DeepState\n",
    "- DeepFactor\n",
    "- Deep Renewal Processes\n",
    "- GPForecaster\n",
    "- MQ-CNN\n",
    "- MQ-RNN\n",
    "- N-BEATS\n",
    "- Rotbaum\n",
    "- Causal Convolutional Transformer\n",
    "- Temporal Fusion Transformer\n",
    "- Transformer\n",
    "- WaveNet\n",
    "- SimpleFeedForward\n",
    "- DeepVAR\n",
    "- GPVAR\n",
    "- LSTNet\n",
    "- DeepTPP\n",
    "- RForecast\n",
    "- Prophet\n",
    "- NaiveSeasonal\n",
    "- Naive2\n",
    "- NPTS\n",
    "\n"
   ],
   "metadata": {
    "pycharm": {
     "name": "#%% md\n"
    }
   }
  },
  {
   "cell_type": "markdown",
   "source": [
    "We will demonstrate Gluon capabilities by using DeepAR: an algorithm developed by Amazon Research that builds probabilistic forecasts for multiple time series using LSTM architecture as a basis (see the RNN episode for a refresher on LSTM https://www.kaggle.com/code/konradb/ts-6-deep-learning-for-ts-rnn-and-friends). TL;DR summary of the Amazon twist is that encoder and decoder networks share the same architecture:\n",
    "\n",
    "[source](https://towardsdatascience.com/prophet-vs-deepar-forecasting-food-demand-2fdebfb8d282)\n",
    "\n",
    "![0_uhDxGJ1oxZMk_lkV.png](attachment:a9e299cc-2ea7-4696-8c85-74148cb2a66a.png)\n",
    "\n",
    "Main features of Deep AR:\n",
    "\n",
    "- incorporation of covariates \n",
    "\n",
    "- a categorical variables specifying grouping of the related time series (models train an embedding vector that learns the common properties of all the time series in the group)\n",
    "\n",
    "- automatic creation of additional feature time series, depending on the granularity of the target time series (e.g. indicators for day of week, month of year etc)\n",
    "\n",
    "- MC sampling for distibutional properties inference \n",
    "\n",
    "- **Built-in item supersession**: It can predict on items with little history items by learning from similar items\n",
    "\n",
    "We will use [dataset](https://www.kaggle.com/datasets/robikscube/hourly-energy-consumption) on hourly energy consumption from across different regions in the US - due to regional variation, the patterns can differ substantially $\\implies$ a single model handling them jointly has potential business value.\n"
   ],
   "metadata": {
    "pycharm": {
     "name": "#%% md\n"
    }
   },
   "attachments": {
    "a9e299cc-2ea7-4696-8c85-74148cb2a66a.png": {
     "image/png": "[encoded data removed]"
    }
   }
  },
  {
   "cell_type": "code",
   "source": [
    "# setup the data and align the lengths for simplicity\n",
    "\n",
    "df1 = pd.read_csv(\"../input/hourly-energy-consumption/COMED_hourly.csv\",parse_dates = True)\n",
    "df1 = df1.loc[df1[\"Datetime\"] > '2011-12-31'].reset_index(drop = True)\n",
    "df2 = pd.read_csv(\"../input/hourly-energy-consumption/DOM_hourly.csv\",parse_dates = True)\n",
    "df2 = df2.loc[df2[\"Datetime\"] > '2011-12-31'].reset_index(drop = True)\n",
    "df3 = pd.read_csv(\"../input/hourly-energy-consumption/PJME_hourly.csv\",parse_dates = True)\n",
    "df3 = df3.loc[df3[\"Datetime\"] > '2011-12-31'].reset_index(drop = True)\n",
    "\n",
    "\n",
    "# (minor) DeepAR kink: convert everything long -> wide\n",
    "def format_df(df):\n",
    "    xname = df.columns[1][:-3]\n",
    "    df = df.T\n",
    "    df.columns = df.iloc[0]\n",
    "    df = df.drop(df.index[0])\n",
    "    df['Station_Name'] = xname\n",
    "    df = df.reset_index(drop = True)\n",
    "\n",
    "    return df\n",
    "\n",
    "\n",
    "df1 = format_df(df1)\n",
    "df2 = format_df(df2)\n",
    "df3 = format_df(df3)\n",
    "\n",
    "\n",
    "# combine\n",
    "df_all = pd.concat([df1 , df2, df3] , axis = 0 )\n",
    "df_all = df_all.set_index(\"Station_Name\")\n",
    "df_all = df_all.reset_index()\n",
    "\n",
    "\n",
    "# grouping variable for using with DeepAR\n",
    "ts_code=df_all['Station_Name'].astype('category').cat.codes.values\n",
    "ts_code"
   ],
   "metadata": {
    "execution": {
     "iopub.status.busy": "2022-06-13T09:40:45.800349Z",
     "iopub.execute_input": "2022-06-13T09:40:45.800773Z",
     "iopub.status.idle": "2022-06-13T09:40:53.538446Z",
     "shell.execute_reply.started": "2022-06-13T09:40:45.800743Z",
     "shell.execute_reply": "2022-06-13T09:40:53.537419Z"
    },
    "trusted": true,
    "pycharm": {
     "name": "#%%\n"
    }
   },
   "execution_count": null,
   "outputs": []
  },
  {
   "cell_type": "code",
   "source": [
    "# train / test split\n",
    "freq=\"1H\"\n",
    "start_train = pd.Timestamp(\"2011-12-31 01:00:00\", freq=freq) \n",
    "start_test = pd.Timestamp(\"2016-06-10 18:00:00\", freq=freq) \n",
    "\n",
    "prediction_lentgh= 24 * 1 \n",
    "\n",
    "df_train=df_all.iloc[:,1:40000].values\n",
    "df_test=df_all.iloc[:,40000:].values"
   ],
   "metadata": {
    "execution": {
     "iopub.status.busy": "2022-06-13T09:44:47.200419Z",
     "iopub.execute_input": "2022-06-13T09:44:47.200788Z",
     "iopub.status.idle": "2022-06-13T09:44:47.207734Z",
     "shell.execute_reply.started": "2022-06-13T09:44:47.200746Z",
     "shell.execute_reply": "2022-06-13T09:44:47.207049Z"
    },
    "trusted": true,
    "pycharm": {
     "name": "#%%\n"
    }
   },
   "execution_count": null,
   "outputs": []
  },
  {
   "cell_type": "markdown",
   "source": [
    "Just like every other library discussed in this notebook, `GluonTS` has its own class for handling time series datasets:"
   ],
   "metadata": {
    "pycharm": {
     "name": "#%% md\n"
    }
   }
  },
  {
   "cell_type": "code",
   "source": [
    "from gluonts.dataset.common import ListDataset\n",
    "from gluonts.dataset.field_names import FieldName\n",
    "\n",
    "train_ds = ListDataset([\n",
    "    {\n",
    "        FieldName.TARGET: target,\n",
    "        FieldName.START: start_train,\n",
    "        FieldName.FEAT_STATIC_CAT: fsc\n",
    "    }\n",
    "    for (target, fsc) in zip(df_train,\n",
    "                             ts_code.reshape(-1,1))\n",
    "], freq=freq)\n",
    "\n",
    "test_ds = ListDataset([\n",
    "    {\n",
    "        FieldName.TARGET: target,\n",
    "        FieldName.START: start_test,\n",
    "        FieldName.FEAT_STATIC_CAT: fsc\n",
    "    }\n",
    "    for (target, fsc) in zip(df_test,\n",
    "                            ts_code.reshape(-1,1))\n",
    "], freq=freq)"
   ],
   "metadata": {
    "execution": {
     "iopub.status.busy": "2022-06-13T09:47:45.598243Z",
     "iopub.execute_input": "2022-06-13T09:47:45.600228Z",
     "iopub.status.idle": "2022-06-13T09:47:45.782037Z",
     "shell.execute_reply.started": "2022-06-13T09:47:45.600129Z",
     "shell.execute_reply": "2022-06-13T09:47:45.781044Z"
    },
    "trusted": true,
    "pycharm": {
     "name": "#%%\n"
    }
   },
   "execution_count": null,
   "outputs": []
  },
  {
   "cell_type": "markdown",
   "source": [
    "After this (admittedly slightly longer than in previous cases ;-) preparation work, we can define our model - we give explanation for the DeepAR-specific parameters, as the rest is fairly standard for RNN / LSTM modeling:"
   ],
   "metadata": {
    "pycharm": {
     "name": "#%% md\n"
    }
   }
  },
  {
   "cell_type": "code",
   "source": [
    "from gluonts.model.deepar import DeepAREstimator\n",
    "from gluonts.mx.trainer import Trainer\n",
    "\n",
    "estimator = DeepAREstimator(freq=freq, \n",
    "                            context_length=24 * 5, \n",
    "                            prediction_length = prediction_lentgh,\n",
    "                            # indicator variable to tell our model which time series observation is which\n",
    "                            # see ts_code above                                                                \n",
    "                            use_feat_static_cat=True,\n",
    "                            # While making predictions we are only using the returns observation for each item month wise and no other extra features , \n",
    "                            # hence cardinality of 1\n",
    "                            cardinality=[1],\n",
    "                            num_layers=2,\n",
    "                            num_cells=32,\n",
    "                            cell_type='lstm',\n",
    "                            dropout_rate = 0.25,\n",
    "                            trainer=Trainer(epochs= 10 , learning_rate=1e-3  ,batch_size = 512, patience = 5 ))"
   ],
   "metadata": {
    "execution": {
     "iopub.status.busy": "2022-06-13T09:52:55.133023Z",
     "iopub.execute_input": "2022-06-13T09:52:55.133412Z",
     "iopub.status.idle": "2022-06-13T09:52:55.144005Z",
     "shell.execute_reply.started": "2022-06-13T09:52:55.133376Z",
     "shell.execute_reply": "2022-06-13T09:52:55.143215Z"
    },
    "trusted": true,
    "pycharm": {
     "name": "#%%\n"
    }
   },
   "execution_count": null,
   "outputs": []
  },
  {
   "cell_type": "markdown",
   "source": [
    "Training the model is not a challenge to anybody familiar with the `scikit-learn` way of doing things:"
   ],
   "metadata": {
    "pycharm": {
     "name": "#%% md\n"
    }
   }
  },
  {
   "cell_type": "code",
   "source": [
    "predictor = estimator.train(training_data=train_ds)\n"
   ],
   "metadata": {
    "execution": {
     "iopub.status.busy": "2022-06-13T09:52:57.711723Z",
     "iopub.execute_input": "2022-06-13T09:52:57.71203Z",
     "iopub.status.idle": "2022-06-13T09:53:43.470221Z",
     "shell.execute_reply.started": "2022-06-13T09:52:57.711995Z",
     "shell.execute_reply": "2022-06-13T09:53:43.469306Z"
    },
    "trusted": true,
    "pycharm": {
     "name": "#%%\n"
    }
   },
   "execution_count": null,
   "outputs": []
  },
  {
   "cell_type": "markdown",
   "source": [
    "Generating predictions works in a manner slightly similar to Prophet: we need to generate MC samples to get at confidence intervals"
   ],
   "metadata": {
    "pycharm": {
     "name": "#%% md\n"
    }
   }
  },
  {
   "cell_type": "code",
   "source": [
    "from gluonts.evaluation.backtest import make_evaluation_predictions\n",
    "forecast_it, ts_it = make_evaluation_predictions(\n",
    "    dataset=test_ds,  \n",
    "    predictor=predictor,  \n",
    "    num_samples=100, \n",
    ")\n",
    "\n",
    "\n",
    "from tqdm.autonotebook import tqdm\n",
    "\n",
    "print(\"Obtaining time series conditioning values ...\")\n",
    "tss = list(tqdm(ts_it, total=len(df_test)))\n",
    "print(\"Obtaining time series predictions ...\")\n",
    "forecasts = list(tqdm(forecast_it, total=len(df_test)))"
   ],
   "metadata": {
    "execution": {
     "iopub.status.busy": "2022-06-13T09:55:01.25276Z",
     "iopub.execute_input": "2022-06-13T09:55:01.253078Z",
     "iopub.status.idle": "2022-06-13T09:55:02.092873Z",
     "shell.execute_reply.started": "2022-06-13T09:55:01.253041Z",
     "shell.execute_reply": "2022-06-13T09:55:02.092055Z"
    },
    "trusted": true,
    "pycharm": {
     "name": "#%%\n"
    }
   },
   "execution_count": null,
   "outputs": []
  },
  {
   "cell_type": "code",
   "source": [
    "def plot_prob_forecasts(ts_entry, forecast_entry):\n",
    "    plot_length = prediction_lentgh\n",
    "    prediction_intervals = (80.0, 95.0)\n",
    "    legend = [\"observations\", \"median prediction\"] + [f\"{k}% prediction interval\" for k in prediction_intervals][::-1]\n",
    "\n",
    "    fig, ax = plt.subplots(1, 1, figsize=(10, 7))\n",
    "    ts_entry[-plot_length:].plot(ax=ax)  \n",
    "    forecast_entry.plot(prediction_intervals=prediction_intervals, color='g')\n",
    "    plt.grid(which=\"both\")\n",
    "    plt.legend(legend, loc=\"upper left\")\n",
    "    plt.show()"
   ],
   "metadata": {
    "execution": {
     "iopub.status.busy": "2022-06-13T09:55:31.333104Z",
     "iopub.execute_input": "2022-06-13T09:55:31.333459Z",
     "iopub.status.idle": "2022-06-13T09:55:31.342123Z",
     "shell.execute_reply.started": "2022-06-13T09:55:31.333421Z",
     "shell.execute_reply": "2022-06-13T09:55:31.340686Z"
    },
    "trusted": true,
    "pycharm": {
     "name": "#%%\n"
    }
   },
   "execution_count": null,
   "outputs": []
  },
  {
   "cell_type": "code",
   "source": [
    "for i in tqdm(range(3)):\n",
    "    ts_entry = tss[i]\n",
    "    forecast_entry = forecasts[i]\n",
    "    plot_prob_forecasts(ts_entry, forecast_entry)"
   ],
   "metadata": {
    "execution": {
     "iopub.status.busy": "2022-06-13T09:55:33.81392Z",
     "iopub.execute_input": "2022-06-13T09:55:33.814261Z",
     "iopub.status.idle": "2022-06-13T09:55:34.849329Z",
     "shell.execute_reply.started": "2022-06-13T09:55:33.814219Z",
     "shell.execute_reply": "2022-06-13T09:55:34.848392Z"
    },
    "trusted": true,
    "pycharm": {
     "name": "#%%\n"
    }
   },
   "execution_count": null,
   "outputs": []
  },
  {
   "cell_type": "code",
   "source": [
    "from gluonts.evaluation import Evaluator\n",
    "evaluator = Evaluator(quantiles=[0.1, 0.5, 0.9])\n",
    "agg_metrics, item_metrics = evaluator(iter(tss), iter(forecasts), num_series=len(df_test))"
   ],
   "metadata": {
    "execution": {
     "iopub.status.busy": "2022-06-13T09:56:46.88026Z",
     "iopub.execute_input": "2022-06-13T09:56:46.881146Z",
     "iopub.status.idle": "2022-06-13T09:56:47.108159Z",
     "shell.execute_reply.started": "2022-06-13T09:56:46.881101Z",
     "shell.execute_reply": "2022-06-13T09:56:47.10704Z"
    },
    "trusted": true,
    "pycharm": {
     "name": "#%%\n"
    }
   },
   "execution_count": null,
   "outputs": []
  },
  {
   "cell_type": "code",
   "source": [
    "agg_metrics"
   ],
   "metadata": {
    "execution": {
     "iopub.status.busy": "2022-06-13T09:56:52.492519Z",
     "iopub.execute_input": "2022-06-13T09:56:52.493161Z",
     "iopub.status.idle": "2022-06-13T09:56:52.501715Z",
     "shell.execute_reply.started": "2022-06-13T09:56:52.493117Z",
     "shell.execute_reply": "2022-06-13T09:56:52.500808Z"
    },
    "trusted": true,
    "pycharm": {
     "name": "#%%\n"
    }
   },
   "execution_count": null,
   "outputs": []
  },
  {
   "cell_type": "code",
   "source": [
    "item_metrics"
   ],
   "metadata": {
    "execution": {
     "iopub.status.busy": "2022-06-13T09:57:01.065686Z",
     "iopub.execute_input": "2022-06-13T09:57:01.066045Z",
     "iopub.status.idle": "2022-06-13T09:57:01.089735Z",
     "shell.execute_reply.started": "2022-06-13T09:57:01.066004Z",
     "shell.execute_reply": "2022-06-13T09:57:01.088709Z"
    },
    "trusted": true,
    "pycharm": {
     "name": "#%%\n"
    }
   },
   "execution_count": null,
   "outputs": []
  },
  {
   "cell_type": "markdown",
   "source": [],
   "metadata": {
    "pycharm": {
     "name": "#%% md\n"
    }
   }
  }
 ]
}